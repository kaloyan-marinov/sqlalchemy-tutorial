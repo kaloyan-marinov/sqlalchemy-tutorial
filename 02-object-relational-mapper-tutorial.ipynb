{
 "cells": [
  {
   "cell_type": "markdown",
   "metadata": {},
   "source": [
    "# Object Relational Tutorial\n",
    "\n",
    "source: https://docs.sqlalchemy.org/en/13/orm/tutorial.html\n",
    "\n",
    "The SQLAlchemy Object Relational Mapper presents a method of associating:\n",
    "1. user-defined Python classes with database tables, and\n",
    "2. instances of those classes (objects) with rows in their corresponding tables.\n",
    "\n",
    "It includes:\n",
    "1. a system that transparently synchronizes all changes in state between objects and their related rows, called a [unit of work](https://docs.sqlalchemy.org/en/13/glossary.html#term-unit-of-work), as well as\n",
    "2. a system for expressing database queries in terms of the user defined classes and their defined relationships between each other."
   ]
  },
  {
   "cell_type": "code",
   "execution_count": 1,
   "metadata": {},
   "outputs": [
    {
     "data": {
      "text/plain": [
       "'1.3.19'"
      ]
     },
     "execution_count": 1,
     "metadata": {},
     "output_type": "execute_result"
    }
   ],
   "source": [
    "import sqlalchemy\n",
    "sqlalchemy.__version__"
   ]
  },
  {
   "cell_type": "code",
   "execution_count": 2,
   "metadata": {},
   "outputs": [
    {
     "data": {
      "text/plain": [
       "sqlalchemy.engine.base.Engine"
      ]
     },
     "execution_count": 2,
     "metadata": {},
     "output_type": "execute_result"
    }
   ],
   "source": [
    "from sqlalchemy import create_engine\n",
    "\n",
    "engine = create_engine('sqlite:///:memory:', echo=True)\n",
    "\n",
    "type(engine)"
   ]
  },
  {
   "cell_type": "markdown",
   "metadata": {},
   "source": [
    "When using the ORM, we typically don’t use the `Engine` directly once created; instead, it’s used behind the scenes by the ORM as we’ll see shortly."
   ]
  },
  {
   "cell_type": "markdown",
   "metadata": {},
   "source": [
    "### Declare a Mapping\n",
    "\n",
    "When using the ORM, the configurational process:\n",
    "- starts by describing the database tables we’ll be dealing with, and\n",
    "- then by defining our own classes which will be mapped to those tables.\n",
    "\n",
    "In modern SQLAlchemy, these two tasks are usually performed together, using a system known as `Declarative`, which allows us to create classes that include directives to describe the actual database table they will be mapped to.\n",
    "\n",
    "Classes mapped using the `Declarative` system are defined in terms of a base class which maintains a catalog of classes and tables relative to that base - this is known as the **declarative base class**."
   ]
  },
  {
   "cell_type": "code",
   "execution_count": 3,
   "metadata": {},
   "outputs": [],
   "source": [
    "from sqlalchemy.ext.declarative import declarative_base\n",
    "\n",
    "Base = declarative_base()"
   ]
  },
  {
   "cell_type": "code",
   "execution_count": 4,
   "metadata": {},
   "outputs": [],
   "source": [
    "from sqlalchemy import Column, Integer, String\n",
    "\n",
    "class User(Base):\n",
    "    __tablename__ = \"users\"\n",
    "    \n",
    "    id = Column(Integer, primary_key=True)\n",
    "    name = Column(String)\n",
    "    fullname = Column(String)\n",
    "    nickname = Column(String)\n",
    "    \n",
    "    def __repr__(self):\n",
    "        return (\n",
    "            f\"<User(name={self.name}, fullname={self.fullname},\"\n",
    "            f\" nickname={self.nickname})>\"\n",
    "        )"
   ]
  },
  {
   "cell_type": "markdown",
   "metadata": {},
   "source": [
    "When our class is constructed, Declarative replaces all the `Column` objects with special Python accessors known as \"descriptors\"; this is a process known as \"instrumentation\".\n",
    "\n",
    "The “instrumented” mapped class will provide us with the means to refer to our table in a SQL context as well as to persist and load the values of columns from the database."
   ]
  },
  {
   "cell_type": "markdown",
   "metadata": {},
   "source": [
    "### Create a Schema and an Instance of the Mapped Class"
   ]
  },
  {
   "cell_type": "code",
   "execution_count": 5,
   "metadata": {},
   "outputs": [
    {
     "data": {
      "text/plain": [
       "Table('users', MetaData(bind=None), Column('id', Integer(), table=<users>, primary_key=True, nullable=False), Column('name', String(), table=<users>), Column('fullname', String(), table=<users>), Column('nickname', String(), table=<users>), schema=None)"
      ]
     },
     "execution_count": 5,
     "metadata": {},
     "output_type": "execute_result"
    }
   ],
   "source": [
    "User.__table__"
   ]
  },
  {
   "cell_type": "code",
   "execution_count": 6,
   "metadata": {},
   "outputs": [
    {
     "data": {
      "text/plain": [
       "sqlalchemy.sql.schema.Table"
      ]
     },
     "execution_count": 6,
     "metadata": {},
     "output_type": "execute_result"
    }
   ],
   "source": [
    "type(User.__table__)"
   ]
  },
  {
   "cell_type": "code",
   "execution_count": 7,
   "metadata": {},
   "outputs": [
    {
     "name": "stdout",
     "output_type": "stream",
     "text": [
      "2020-10-15 20:36:43,935 INFO sqlalchemy.engine.base.Engine SELECT CAST('test plain returns' AS VARCHAR(60)) AS anon_1\n",
      "2020-10-15 20:36:43,943 INFO sqlalchemy.engine.base.Engine ()\n",
      "2020-10-15 20:36:43,951 INFO sqlalchemy.engine.base.Engine SELECT CAST('test unicode returns' AS VARCHAR(60)) AS anon_1\n",
      "2020-10-15 20:36:43,957 INFO sqlalchemy.engine.base.Engine ()\n",
      "2020-10-15 20:36:43,964 INFO sqlalchemy.engine.base.Engine PRAGMA main.table_info(\"users\")\n",
      "2020-10-15 20:36:43,967 INFO sqlalchemy.engine.base.Engine ()\n",
      "2020-10-15 20:36:43,981 INFO sqlalchemy.engine.base.Engine PRAGMA temp.table_info(\"users\")\n",
      "2020-10-15 20:36:43,994 INFO sqlalchemy.engine.base.Engine ()\n",
      "2020-10-15 20:36:44,002 INFO sqlalchemy.engine.base.Engine \n",
      "CREATE TABLE users (\n",
      "\tid INTEGER NOT NULL, \n",
      "\tname VARCHAR, \n",
      "\tfullname VARCHAR, \n",
      "\tnickname VARCHAR, \n",
      "\tPRIMARY KEY (id)\n",
      ")\n",
      "\n",
      "\n",
      "2020-10-15 20:36:44,006 INFO sqlalchemy.engine.base.Engine ()\n",
      "2020-10-15 20:36:44,010 INFO sqlalchemy.engine.base.Engine COMMIT\n"
     ]
    }
   ],
   "source": [
    "# issue CREATE TABLE statements to the database\n",
    "# for all tables that don’t yet exist\n",
    "\n",
    "Base.metadata.create_all(engine)"
   ]
  },
  {
   "cell_type": "code",
   "execution_count": 8,
   "metadata": {},
   "outputs": [
    {
     "data": {
      "text/plain": [
       "<User(name=ed, fullname=Ed Jones, nickname=edsnickname)>"
      ]
     },
     "execution_count": 8,
     "metadata": {},
     "output_type": "execute_result"
    }
   ],
   "source": [
    "ed_user = User(name='ed', fullname='Ed Jones', nickname='edsnickname')\n",
    "\n",
    "ed_user"
   ]
  },
  {
   "cell_type": "code",
   "execution_count": 9,
   "metadata": {},
   "outputs": [
    {
     "data": {
      "text/plain": [
       "'None'"
      ]
     },
     "execution_count": 9,
     "metadata": {},
     "output_type": "execute_result"
    }
   ],
   "source": [
    "str(ed_user.id)"
   ]
  },
  {
   "cell_type": "markdown",
   "metadata": {},
   "source": [
    "### Creating a Session\n",
    "\n",
    "We’re now ready to start talking to the database. The ORM’s “handle” to the database is the `Session`.\n",
    "\n",
    "In the most general sense, the `Session` establishes all conversations with the database and represents a “holding zone” for all the objects which you’ve loaded or associated with it during its lifespan."
   ]
  },
  {
   "cell_type": "code",
   "execution_count": 10,
   "metadata": {},
   "outputs": [],
   "source": [
    "from sqlalchemy.orm import sessionmaker\n",
    "Session = sessionmaker(bind=engine)"
   ]
  },
  {
   "cell_type": "code",
   "execution_count": 11,
   "metadata": {},
   "outputs": [],
   "source": [
    "session = Session()"
   ]
  },
  {
   "cell_type": "code",
   "execution_count": 12,
   "metadata": {},
   "outputs": [],
   "source": [
    "session.add(ed_user)"
   ]
  },
  {
   "cell_type": "markdown",
   "metadata": {},
   "source": [
    "At this point, we say that the instance is **pending**; no SQL has yet been issued and the object is not yet represented by a row in the database.\n",
    "\n",
    "The `Session` will issue the SQL to persist `ed_user` as soon as is needed; this process is known as a **flush**. For example, if we query the database:\n",
    "- first all pending information will be flushed, and\n",
    "- immediately thereafter the query will be issued."
   ]
  },
  {
   "cell_type": "code",
   "execution_count": 13,
   "metadata": {},
   "outputs": [
    {
     "name": "stdout",
     "output_type": "stream",
     "text": [
      "<class 'sqlalchemy.orm.query.Query'>\n",
      "\n",
      "2020-10-15 20:36:44,182 INFO sqlalchemy.engine.base.Engine BEGIN (implicit)\n",
      "2020-10-15 20:36:44,187 INFO sqlalchemy.engine.base.Engine INSERT INTO users (name, fullname, nickname) VALUES (?, ?, ?)\n",
      "2020-10-15 20:36:44,190 INFO sqlalchemy.engine.base.Engine ('ed', 'Ed Jones', 'edsnickname')\n",
      "2020-10-15 20:36:44,194 INFO sqlalchemy.engine.base.Engine SELECT users.id AS users_id, users.name AS users_name, users.fullname AS users_fullname, users.nickname AS users_nickname \n",
      "FROM users \n",
      "WHERE users.name = ?\n",
      " LIMIT ? OFFSET ?\n",
      "2020-10-15 20:36:44,199 INFO sqlalchemy.engine.base.Engine ('ed', 1, 0)\n"
     ]
    }
   ],
   "source": [
    "query = session.query(User).filter_by(name='ed')\n",
    "\n",
    "print(type(query))\n",
    "print()\n",
    "\n",
    "our_user = query.first()"
   ]
  },
  {
   "cell_type": "code",
   "execution_count": 14,
   "metadata": {},
   "outputs": [
    {
     "data": {
      "text/plain": [
       "True"
      ]
     },
     "execution_count": 14,
     "metadata": {},
     "output_type": "execute_result"
    }
   ],
   "source": [
    "# Note: the Session has identified that\n",
    "# the row returned is **the same row**\n",
    "# as one already represented within its internal map of objects,\n",
    "# so we actually got back the identical instance\n",
    "# as that which we just added:\n",
    "\n",
    "# Note: executing the `Query` returned the very same instance\n",
    "# as the one that was added to the `Session`:\n",
    "our_user is ed_user"
   ]
  },
  {
   "cell_type": "markdown",
   "metadata": {},
   "source": [
    "[The `Session`] provides the entrypoint to acquire a `Query` object, which sends queries to the database (using the `Session` object’s current database connection).\n",
    "\n",
    "Doing so populates result rows into objects that are then stored in the `Session`, inside a structure called the \"Identity Map\" - a data structure that maintains unique copies of each object, where “unique” means “only one object with a particular primary key”.\n",
    "\n",
    "An Identity Map is a mapping that’s associated with an ORM `Session` object, and maintains a mapping/correspondence between Python objects and their database identities. (Thus, an Identity Map keeps a record of all objects that have been read from the database in a single business transaction.)"
   ]
  },
  {
   "cell_type": "code",
   "execution_count": 15,
   "metadata": {},
   "outputs": [
    {
     "data": {
      "text/plain": [
       "(1, 1)"
      ]
     },
     "execution_count": 15,
     "metadata": {},
     "output_type": "execute_result"
    }
   ],
   "source": [
    "# In addition,\n",
    "# if we look at Ed's `id` attribute, which earlier was `None`,\n",
    "# it now has a value:\n",
    "ed_user.id, our_user.id"
   ]
  },
  {
   "cell_type": "code",
   "execution_count": 16,
   "metadata": {},
   "outputs": [],
   "source": [
    "# We can add more User objects at once:\n",
    "session.add_all([\n",
    "    User(name='wendy', fullname='Wendy Williams', nickname='windy'),\n",
    "    User(name='mary', fullname='Mary Contrary', nickname='mary'),\n",
    "    User(name='fred', fullname='Fred Flintstone', nickname='freddy'),\n",
    "])\n",
    "\n",
    "# Also, let's change Ed's nickname:\n",
    "ed_user.nickname = 'eddie'"
   ]
  },
  {
   "cell_type": "code",
   "execution_count": 17,
   "metadata": {},
   "outputs": [
    {
     "data": {
      "text/plain": [
       "IdentitySet([<User(name=ed, fullname=Ed Jones, nickname=eddie)>])"
      ]
     },
     "execution_count": 17,
     "metadata": {},
     "output_type": "execute_result"
    }
   ],
   "source": [
    "# The `Session` is paying attention...\n",
    "# exhibit A:\n",
    "session.dirty"
   ]
  },
  {
   "cell_type": "code",
   "execution_count": 18,
   "metadata": {},
   "outputs": [
    {
     "data": {
      "text/plain": [
       "IdentitySet([<User(name=wendy, fullname=Wendy Williams, nickname=windy)>, <User(name=mary, fullname=Mary Contrary, nickname=mary)>, <User(name=fred, fullname=Fred Flintstone, nickname=freddy)>])"
      ]
     },
     "execution_count": 18,
     "metadata": {},
     "output_type": "execute_result"
    }
   ],
   "source": [
    "# exhibit B:\n",
    "session.new"
   ]
  },
  {
   "cell_type": "code",
   "execution_count": 19,
   "metadata": {},
   "outputs": [
    {
     "name": "stdout",
     "output_type": "stream",
     "text": [
      "2020-10-15 20:36:44,343 INFO sqlalchemy.engine.base.Engine UPDATE users SET nickname=? WHERE users.id = ?\n",
      "2020-10-15 20:36:44,346 INFO sqlalchemy.engine.base.Engine ('eddie', 1)\n",
      "2020-10-15 20:36:44,349 INFO sqlalchemy.engine.base.Engine INSERT INTO users (name, fullname, nickname) VALUES (?, ?, ?)\n",
      "2020-10-15 20:36:44,353 INFO sqlalchemy.engine.base.Engine ('wendy', 'Wendy Williams', 'windy')\n",
      "2020-10-15 20:36:44,356 INFO sqlalchemy.engine.base.Engine INSERT INTO users (name, fullname, nickname) VALUES (?, ?, ?)\n",
      "2020-10-15 20:36:44,358 INFO sqlalchemy.engine.base.Engine ('mary', 'Mary Contrary', 'mary')\n",
      "2020-10-15 20:36:44,360 INFO sqlalchemy.engine.base.Engine INSERT INTO users (name, fullname, nickname) VALUES (?, ?, ?)\n",
      "2020-10-15 20:36:44,362 INFO sqlalchemy.engine.base.Engine ('fred', 'Fred Flintstone', 'freddy')\n",
      "2020-10-15 20:36:44,364 INFO sqlalchemy.engine.base.Engine COMMIT\n"
     ]
    }
   ],
   "source": [
    "# issue all remaining changes to the database and commit the transaction,\n",
    "# which has been in progress throughout\n",
    "session.commit()"
   ]
  },
  {
   "cell_type": "markdown",
   "metadata": {},
   "source": [
    "### Rolling back\n",
    "\n",
    "Since the `Session` works within a transaction, we can roll back changes made too."
   ]
  },
  {
   "cell_type": "code",
   "execution_count": 20,
   "metadata": {},
   "outputs": [],
   "source": [
    "# Make 2 changes that we'll revert\n",
    "\n",
    "ed_user.name = 'Edwardo'\n",
    "\n",
    "fake_user = User(name='fakeuser', fullname='Invalid', nickname='12345')\n",
    "session.add(fake_user)"
   ]
  },
  {
   "cell_type": "code",
   "execution_count": 21,
   "metadata": {},
   "outputs": [
    {
     "name": "stdout",
     "output_type": "stream",
     "text": [
      "2020-10-15 20:36:44,395 INFO sqlalchemy.engine.base.Engine BEGIN (implicit)\n",
      "2020-10-15 20:36:44,399 INFO sqlalchemy.engine.base.Engine SELECT users.id AS users_id, users.fullname AS users_fullname, users.nickname AS users_nickname \n",
      "FROM users \n",
      "WHERE users.id = ?\n",
      "2020-10-15 20:36:44,402 INFO sqlalchemy.engine.base.Engine (1,)\n",
      "2020-10-15 20:36:44,404 INFO sqlalchemy.engine.base.Engine UPDATE users SET name=? WHERE users.id = ?\n",
      "2020-10-15 20:36:44,406 INFO sqlalchemy.engine.base.Engine ('Edwardo', 1)\n",
      "2020-10-15 20:36:44,415 INFO sqlalchemy.engine.base.Engine INSERT INTO users (name, fullname, nickname) VALUES (?, ?, ?)\n",
      "2020-10-15 20:36:44,418 INFO sqlalchemy.engine.base.Engine ('fakeuser', 'Invalid', '12345')\n",
      "2020-10-15 20:36:44,421 INFO sqlalchemy.engine.base.Engine SELECT users.id AS users_id, users.name AS users_name, users.fullname AS users_fullname, users.nickname AS users_nickname \n",
      "FROM users \n",
      "WHERE users.name IN (?, ?)\n",
      "2020-10-15 20:36:44,422 INFO sqlalchemy.engine.base.Engine ('Edwardo', 'fakeuser')\n"
     ]
    },
    {
     "data": {
      "text/plain": [
       "[<User(name=Edwardo, fullname=Ed Jones, nickname=eddie)>,\n",
       " <User(name=fakeuser, fullname=Invalid, nickname=12345)>]"
      ]
     },
     "execution_count": 21,
     "metadata": {},
     "output_type": "execute_result"
    }
   ],
   "source": [
    "# Querying the session shows that\n",
    "# both changes are flushed into the current transaction\n",
    "session.query(User).filter(\n",
    "    User.name.in_(['Edwardo', 'fakeuser'])\n",
    ").all()"
   ]
  },
  {
   "cell_type": "code",
   "execution_count": 22,
   "metadata": {},
   "outputs": [
    {
     "name": "stdout",
     "output_type": "stream",
     "text": [
      "2020-10-15 20:36:44,460 INFO sqlalchemy.engine.base.Engine ROLLBACK\n",
      "2020-10-15 20:36:44,465 INFO sqlalchemy.engine.base.Engine BEGIN (implicit)\n",
      "2020-10-15 20:36:44,468 INFO sqlalchemy.engine.base.Engine SELECT users.id AS users_id, users.name AS users_name, users.fullname AS users_fullname, users.nickname AS users_nickname \n",
      "FROM users \n",
      "WHERE users.id = ?\n",
      "2020-10-15 20:36:44,470 INFO sqlalchemy.engine.base.Engine (1,)\n",
      "True\n",
      "False\n",
      "\n",
      "2020-10-15 20:36:44,476 INFO sqlalchemy.engine.base.Engine SELECT users.id AS users_id, users.name AS users_name, users.fullname AS users_fullname, users.nickname AS users_nickname \n",
      "FROM users \n",
      "WHERE users.name IN (?, ?)\n",
      "2020-10-15 20:36:44,484 INFO sqlalchemy.engine.base.Engine ('ed', 'fakeuser')\n",
      "[<User(name=ed, fullname=Ed Jones, nickname=eddie)>]\n"
     ]
    }
   ],
   "source": [
    "# Roll back the changes, and verify that has worked as expected.\n",
    "\n",
    "session.rollback()\n",
    "\n",
    "print(ed_user.name == 'ed')\n",
    "print(fake_user in session)\n",
    "\n",
    "print()\n",
    "print(\n",
    "    session.query(User).filter(\n",
    "        User.name.in_(['ed', 'fakeuser'])\n",
    "    ).all()\n",
    ")"
   ]
  },
  {
   "cell_type": "markdown",
   "metadata": {},
   "source": [
    "### Querying\n",
    "\n",
    "A `Query` object is created using the `query()` method on `Session`.\n",
    "\n",
    "This function takes a variable number of arguments, which can be any combination of (a) classes and (b) class-instrumented descriptors."
   ]
  },
  {
   "cell_type": "code",
   "execution_count": 23,
   "metadata": {},
   "outputs": [
    {
     "name": "stdout",
     "output_type": "stream",
     "text": [
      "2020-10-15 20:36:44,571 INFO sqlalchemy.engine.base.Engine SELECT users.id AS users_id, users.name AS users_name, users.fullname AS users_fullname, users.nickname AS users_nickname \n",
      "FROM users ORDER BY users.id\n",
      "2020-10-15 20:36:44,581 INFO sqlalchemy.engine.base.Engine ()\n",
      "<class '__main__.User'> ed Ed Jones\n",
      "<class '__main__.User'> wendy Wendy Williams\n",
      "<class '__main__.User'> mary Mary Contrary\n",
      "<class '__main__.User'> fred Fred Flintstone\n"
     ]
    }
   ],
   "source": [
    "for instance in session.query(User).order_by(User.id):\n",
    "    print(type(instance), instance.name, instance.fullname)"
   ]
  },
  {
   "cell_type": "code",
   "execution_count": 24,
   "metadata": {},
   "outputs": [
    {
     "name": "stdout",
     "output_type": "stream",
     "text": [
      "2020-10-15 20:36:44,618 INFO sqlalchemy.engine.base.Engine SELECT users.name AS users_name, users.id AS users_id, users.fullname AS users_fullname, users.nickname AS users_nickname \n",
      "FROM users\n",
      "2020-10-15 20:36:44,622 INFO sqlalchemy.engine.base.Engine ()\n",
      "ed   <---   <User(name=ed, fullname=Ed Jones, nickname=eddie)>\n",
      "wendy   <---   <User(name=wendy, fullname=Wendy Williams, nickname=windy)>\n",
      "mary   <---   <User(name=mary, fullname=Mary Contrary, nickname=mary)>\n",
      "fred   <---   <User(name=fred, fullname=Fred Flintstone, nickname=freddy)>\n"
     ]
    }
   ],
   "source": [
    "for named_tuple in session.query(User.name, User).all():\n",
    "    print(f\"{named_tuple.name}   <---   {named_tuple.User}\")"
   ]
  },
  {
   "cell_type": "markdown",
   "metadata": {},
   "source": [
    "#### Controlling names of columns and entities\n",
    "\n",
    "- You can control the names of individual column expressions using the `ColumnElement.label()` construct\n",
    "- The name given to a full entity such as `User` ... can be controlled using `aliased()`\n",
    "\n",
    "[no examples]"
   ]
  },
  {
   "cell_type": "markdown",
   "metadata": {},
   "source": [
    "#### Basic operations with `Query`"
   ]
  },
  {
   "cell_type": "code",
   "execution_count": 25,
   "metadata": {},
   "outputs": [
    {
     "name": "stdout",
     "output_type": "stream",
     "text": [
      "2020-10-15 20:36:44,647 INFO sqlalchemy.engine.base.Engine SELECT users.id AS users_id, users.name AS users_name, users.fullname AS users_fullname, users.nickname AS users_nickname \n",
      "FROM users ORDER BY users.id\n",
      " LIMIT ? OFFSET ?\n",
      "2020-10-15 20:36:44,651 INFO sqlalchemy.engine.base.Engine (2, 1)\n",
      "2 <User(name=wendy, fullname=Wendy Williams, nickname=windy)>\n",
      "3 <User(name=mary, fullname=Mary Contrary, nickname=mary)>\n"
     ]
    }
   ],
   "source": [
    "# LIMIT and OFFSET\n",
    "for u in session.query(User).order_by(User.id)[1:3]:\n",
    "    print(u.id, u)"
   ]
  },
  {
   "cell_type": "code",
   "execution_count": 26,
   "metadata": {},
   "outputs": [
    {
     "name": "stdout",
     "output_type": "stream",
     "text": [
      "2020-10-15 20:36:44,713 INFO sqlalchemy.engine.base.Engine SELECT users.id AS users_id, users.name AS users_name, users.fullname AS users_fullname, users.nickname AS users_nickname \n",
      "FROM users \n",
      "WHERE users.fullname = ?\n",
      "2020-10-15 20:36:44,724 INFO sqlalchemy.engine.base.Engine ('Ed Jones',)\n",
      "1 <User(name=ed, fullname=Ed Jones, nickname=eddie)>\n"
     ]
    }
   ],
   "source": [
    "# filtering results\n",
    "# (using keyword args)\n",
    "for u in session.query(User).filter_by(fullname=\"Ed Jones\"):\n",
    "    print(u.id, u)"
   ]
  },
  {
   "cell_type": "code",
   "execution_count": 27,
   "metadata": {},
   "outputs": [
    {
     "name": "stdout",
     "output_type": "stream",
     "text": [
      "2020-10-15 20:36:44,762 INFO sqlalchemy.engine.base.Engine SELECT users.id AS users_id, users.name AS users_name, users.fullname AS users_fullname, users.nickname AS users_nickname \n",
      "FROM users \n",
      "WHERE users.fullname = ?\n",
      "2020-10-15 20:36:44,764 INFO sqlalchemy.engine.base.Engine ('Wendy Williams',)\n",
      "2 <User(name=wendy, fullname=Wendy Williams, nickname=windy)>\n"
     ]
    }
   ],
   "source": [
    "# filtering results\n",
    "# (using more flexible SQL expression language constructs)\n",
    "for u in session.query(User).filter(User.fullname == \"Wendy Williams\"):\n",
    "    print(u.id, u)"
   ]
  },
  {
   "cell_type": "markdown",
   "metadata": {},
   "source": [
    "The `Query` object is fully **generative**, meaning that most method calls return a new `Query` object upon which further criteria may be added."
   ]
  },
  {
   "cell_type": "code",
   "execution_count": 28,
   "metadata": {},
   "outputs": [
    {
     "name": "stdout",
     "output_type": "stream",
     "text": [
      "2020-10-15 20:36:44,804 INFO sqlalchemy.engine.base.Engine SELECT users.id AS users_id, users.name AS users_name, users.fullname AS users_fullname, users.nickname AS users_nickname \n",
      "FROM users \n",
      "WHERE users.name = ? AND users.fullname = ?\n",
      "2020-10-15 20:36:44,818 INFO sqlalchemy.engine.base.Engine ('mary', 'Mary Contrary')\n",
      "3 <User(name=mary, fullname=Mary Contrary, nickname=mary)>\n"
     ]
    }
   ],
   "source": [
    "for u in session.query(User).filter(\n",
    "    User.name == \"mary\"\n",
    ").filter(\n",
    "    User.fullname == \"Mary Contrary\"\n",
    "):\n",
    "    print(u.id, u)"
   ]
  },
  {
   "cell_type": "markdown",
   "metadata": {},
   "source": [
    "A number of methods on Query immediately issue SQL and return a value containing loaded database results. Here’s a brief tour:\n",
    "- `Query.all()` returns a list\n",
    "- `Query.first()` applies a LIMIT of 1 (and an OFFSET of 0) and returns the first result as a scalar\n",
    "- `Query.one()` fully fetches all rows, and if not exactly one object identity or composite row is present in the result, raises an error.\n",
    "- `Query.one_or_none()` is like `Query.one()`, except that if no results are found, it doesn’t raise an error; it just returns `None`. Like `Query.one()`, however, it does raise an error if multiple results are found.\n",
    "- `Query.scalar()` invokes the `Query.one()` method, and upon success returns the first column of the row"
   ]
  },
  {
   "cell_type": "markdown",
   "metadata": {},
   "source": [
    "#### Using Textual SQL\n",
    "\n",
    "Literal strings can be used flexibly with `Query`, by specifying their use with the `text()` [SQL Expression Language] construct, which is accepted by most applicable methods.\n",
    "\n",
    "Nice examples can be found at https://docs.sqlalchemy.org/en/13/orm/tutorial.html#using-textual-sql"
   ]
  },
  {
   "cell_type": "markdown",
   "metadata": {},
   "source": [
    "#### Counting"
   ]
  },
  {
   "cell_type": "code",
   "execution_count": 29,
   "metadata": {},
   "outputs": [
    {
     "name": "stdout",
     "output_type": "stream",
     "text": [
      "2020-10-15 20:36:44,859 INFO sqlalchemy.engine.base.Engine SELECT count(*) AS count_1 \n",
      "FROM (SELECT users.id AS users_id, users.name AS users_name, users.fullname AS users_fullname, users.nickname AS users_nickname \n",
      "FROM users \n",
      "WHERE lower(users.name) LIKE lower(?)) AS anon_1\n",
      "2020-10-15 20:36:44,866 INFO sqlalchemy.engine.base.Engine ('%ed',)\n"
     ]
    },
    {
     "data": {
      "text/plain": [
       "2"
      ]
     },
     "execution_count": 29,
     "metadata": {},
     "output_type": "execute_result"
    }
   ],
   "source": [
    "session.query(User).filter(\n",
    "    User.name.ilike(\"%ed\")\n",
    ").count()"
   ]
  },
  {
   "cell_type": "code",
   "execution_count": 30,
   "metadata": {},
   "outputs": [
    {
     "name": "stdout",
     "output_type": "stream",
     "text": [
      "2020-10-15 20:36:44,887 INFO sqlalchemy.engine.base.Engine SELECT users.name AS users_name, count(users.name) AS count_1 \n",
      "FROM users GROUP BY users.name\n",
      "2020-10-15 20:36:44,893 INFO sqlalchemy.engine.base.Engine ()\n"
     ]
    },
    {
     "data": {
      "text/plain": [
       "[('ed', 1), ('fred', 1), ('mary', 1), ('wendy', 1)]"
      ]
     },
     "execution_count": 30,
     "metadata": {},
     "output_type": "execute_result"
    }
   ],
   "source": [
    "# For situations where the “thing to be counted” needs to be indicated specifically:\n",
    "\n",
    "from sqlalchemy import func\n",
    "\n",
    "session.query(\n",
    "    User.name,\n",
    "    func.count(User.name),\n",
    ").group_by(\n",
    "    User.name\n",
    ").all()"
   ]
  },
  {
   "cell_type": "code",
   "execution_count": 31,
   "metadata": {},
   "outputs": [
    {
     "name": "stdout",
     "output_type": "stream",
     "text": [
      "2020-10-15 20:36:44,938 INFO sqlalchemy.engine.base.Engine SELECT count(?) AS count_1 \n",
      "FROM users\n",
      "2020-10-15 20:36:44,942 INFO sqlalchemy.engine.base.Engine ('*',)\n"
     ]
    },
    {
     "data": {
      "text/plain": [
       "4"
      ]
     },
     "execution_count": 31,
     "metadata": {},
     "output_type": "execute_result"
    }
   ],
   "source": [
    "# To achieve our simple\n",
    "#     `SELECT count(*) FROM table`:\n",
    "\n",
    "session.query(\n",
    "    func.count(\"*\")\n",
    ").select_from(\n",
    "    User\n",
    ").scalar()\n",
    "\n",
    "# # or:\n",
    "# session.query(\n",
    "#     func.count(User.id)\n",
    "# ).scalar()"
   ]
  },
  {
   "cell_type": "markdown",
   "metadata": {},
   "source": [
    "### Building a Relationship\n",
    "\n",
    "Let’s consider how a second table, related to `User`, can be mapped and queried.\n",
    "\n",
    "Let us suppose that users in our system can store any number of email addresses associated with their username. This implies a basic one-to-many association from the `users` to a new table which stores email addresses, which we will call `addresses`.\n",
    "\n",
    "Using `declarative`, we define this table along with its mapped class, `Address`:"
   ]
  },
  {
   "cell_type": "code",
   "execution_count": 32,
   "metadata": {},
   "outputs": [],
   "source": [
    "from sqlalchemy import ForeignKey\n",
    "from sqlalchemy.orm import relationship\n",
    "\n",
    "class Address(Base):\n",
    "    __tablename__ = \"addresses\"\n",
    "    \n",
    "    id = Column(Integer, primary_key=True)\n",
    "    email_address = Column(String, nullable=False)\n",
    "    \n",
    "    # the `ForeignKey` construct ... is a directive applied to `Column`,\n",
    "    # which indicates that values in this column should be constrained\n",
    "    # to be values present in the named \"remote\" column\n",
    "    user_id = Column(Integer, ForeignKey(\"users.id\"))\n",
    "    # the `relationship()` directive (a) tells the ORM that the `Address`\n",
    "    # class itself should be linked to the `User` class (using the\n",
    "    # `Address.user` attribute), and (b) uses the foreign-key directive\n",
    "    # to determine the nature of this linkage (i.e. that `Address.user`\n",
    "    # will be many-to-one), and (c) assigns the\n",
    "    # `relationship.back_populates` parameter to refer to the\n",
    "    # complementary attribute name\n",
    "    user = relationship(\"User\", back_populates=\"addresses\")\n",
    "    \n",
    "    def __repr__(self):\n",
    "        return (\n",
    "            f\"<Address email_address={self.email_address}>\"\n",
    "        )\n",
    "\n",
    "User.addresses = relationship(\n",
    "    \"Address\",\n",
    "    order_by=Address.id,\n",
    "    back_populates=\"user\"\n",
    ")"
   ]
  },
  {
   "cell_type": "markdown",
   "metadata": {},
   "source": [
    "#### Did you know?\n",
    "\n",
    "- FOREIGN KEY columns can automatically update themselves, in response to a change in the referenced column or row. This is known as the CASCADE *referential action*, and is a built-in function of the relational database.\n",
    "- more \"Did you know?\" facts on https://docs.sqlalchemy.org/en/13/orm/tutorial.html#building-a-relationship"
   ]
  },
  {
   "cell_type": "markdown",
   "metadata": {},
   "source": [
    "We’ll need to create the `addresses` table in the database, so we will issue another CREATE from our metadata, which will skip over tables which have already been created:"
   ]
  },
  {
   "cell_type": "code",
   "execution_count": 33,
   "metadata": {},
   "outputs": [
    {
     "name": "stdout",
     "output_type": "stream",
     "text": [
      "2020-10-15 20:36:45,022 INFO sqlalchemy.engine.base.Engine PRAGMA main.table_info(\"users\")\n",
      "2020-10-15 20:36:45,025 INFO sqlalchemy.engine.base.Engine ()\n",
      "2020-10-15 20:36:45,028 INFO sqlalchemy.engine.base.Engine PRAGMA main.table_info(\"addresses\")\n",
      "2020-10-15 20:36:45,031 INFO sqlalchemy.engine.base.Engine ()\n",
      "2020-10-15 20:36:45,034 INFO sqlalchemy.engine.base.Engine PRAGMA temp.table_info(\"addresses\")\n",
      "2020-10-15 20:36:45,036 INFO sqlalchemy.engine.base.Engine ()\n",
      "2020-10-15 20:36:45,039 INFO sqlalchemy.engine.base.Engine \n",
      "CREATE TABLE addresses (\n",
      "\tid INTEGER NOT NULL, \n",
      "\temail_address VARCHAR NOT NULL, \n",
      "\tuser_id INTEGER, \n",
      "\tPRIMARY KEY (id), \n",
      "\tFOREIGN KEY(user_id) REFERENCES users (id)\n",
      ")\n",
      "\n",
      "\n",
      "2020-10-15 20:36:45,045 INFO sqlalchemy.engine.base.Engine ()\n",
      "2020-10-15 20:36:45,047 INFO sqlalchemy.engine.base.Engine COMMIT\n"
     ]
    }
   ],
   "source": [
    "Base.metadata.create_all(engine)"
   ]
  },
  {
   "cell_type": "markdown",
   "metadata": {},
   "source": [
    "### Working with Related Objects"
   ]
  },
  {
   "cell_type": "code",
   "execution_count": 34,
   "metadata": {},
   "outputs": [
    {
     "data": {
      "text/plain": [
       "[]"
      ]
     },
     "execution_count": 34,
     "metadata": {},
     "output_type": "execute_result"
    }
   ],
   "source": [
    "jack = User(\n",
    "    name=\"jack\",\n",
    "    fullname=\"Jack Bean\",\n",
    "    nickname=\"jacks-random-nickname\",\n",
    ")\n",
    "jack.addresses"
   ]
  },
  {
   "cell_type": "code",
   "execution_count": 35,
   "metadata": {},
   "outputs": [],
   "source": [
    "jack.addresses = [\n",
    "    Address(email_address=\"jack@google.com\"),\n",
    "    Address(email_address=\"j25@yahoo.com\"),\n",
    "]"
   ]
  },
  {
   "cell_type": "code",
   "execution_count": 36,
   "metadata": {},
   "outputs": [
    {
     "name": "stdout",
     "output_type": "stream",
     "text": [
      "2020-10-15 20:36:45,098 INFO sqlalchemy.engine.base.Engine INSERT INTO users (name, fullname, nickname) VALUES (?, ?, ?)\n",
      "2020-10-15 20:36:45,105 INFO sqlalchemy.engine.base.Engine ('jack', 'Jack Bean', 'jacks-random-nickname')\n",
      "2020-10-15 20:36:45,110 INFO sqlalchemy.engine.base.Engine INSERT INTO addresses (email_address, user_id) VALUES (?, ?)\n",
      "2020-10-15 20:36:45,115 INFO sqlalchemy.engine.base.Engine ('jack@google.com', 5)\n",
      "2020-10-15 20:36:45,117 INFO sqlalchemy.engine.base.Engine INSERT INTO addresses (email_address, user_id) VALUES (?, ?)\n",
      "2020-10-15 20:36:45,119 INFO sqlalchemy.engine.base.Engine ('j25@yahoo.com', 5)\n",
      "2020-10-15 20:36:45,124 INFO sqlalchemy.engine.base.Engine COMMIT\n"
     ]
    }
   ],
   "source": [
    "# add and commit `jack` to the database,\n",
    "# which - thanks to a process known as CASCADING -\n",
    "# is also going to add the two `Address` members\n",
    "# in the corresponding `addresses` collection\n",
    "session.add(jack)\n",
    "session.commit()"
   ]
  },
  {
   "cell_type": "code",
   "execution_count": 37,
   "metadata": {},
   "outputs": [
    {
     "name": "stdout",
     "output_type": "stream",
     "text": [
      "2020-10-15 20:36:45,142 INFO sqlalchemy.engine.base.Engine BEGIN (implicit)\n",
      "2020-10-15 20:36:45,148 INFO sqlalchemy.engine.base.Engine SELECT users.id AS users_id, users.name AS users_name, users.fullname AS users_fullname, users.nickname AS users_nickname \n",
      "FROM users \n",
      "WHERE users.name = ?\n",
      "2020-10-15 20:36:45,150 INFO sqlalchemy.engine.base.Engine ('jack',)\n"
     ]
    },
    {
     "data": {
      "text/plain": [
       "<User(name=jack, fullname=Jack Bean, nickname=jacks-random-nickname)>"
      ]
     },
     "execution_count": 37,
     "metadata": {},
     "output_type": "execute_result"
    }
   ],
   "source": [
    "jack = session.query(User).filter_by(\n",
    "    name=\"jack\"\n",
    ").one()\n",
    "\n",
    "jack"
   ]
  },
  {
   "cell_type": "code",
   "execution_count": 38,
   "metadata": {},
   "outputs": [
    {
     "name": "stdout",
     "output_type": "stream",
     "text": [
      "2020-10-15 20:36:45,183 INFO sqlalchemy.engine.base.Engine SELECT addresses.id AS addresses_id, addresses.email_address AS addresses_email_address, addresses.user_id AS addresses_user_id \n",
      "FROM addresses \n",
      "WHERE ? = addresses.user_id ORDER BY addresses.id\n",
      "2020-10-15 20:36:45,189 INFO sqlalchemy.engine.base.Engine (5,)\n"
     ]
    },
    {
     "data": {
      "text/plain": [
       "[<Address email_address=jack@google.com>,\n",
       " <Address email_address=j25@yahoo.com>]"
      ]
     },
     "execution_count": 38,
     "metadata": {},
     "output_type": "execute_result"
    }
   ],
   "source": [
    "jack.addresses"
   ]
  },
  {
   "cell_type": "markdown",
   "metadata": {},
   "source": [
    "### Querying with Joins\n",
    "\n",
    "http://en.wikipedia.org/wiki/Join_%28SQL%29 offers a good introduction to JOIN techniques, several of which we’ll illustrate here."
   ]
  },
  {
   "cell_type": "code",
   "execution_count": 39,
   "metadata": {},
   "outputs": [
    {
     "name": "stdout",
     "output_type": "stream",
     "text": [
      "2020-10-15 20:36:45,217 INFO sqlalchemy.engine.base.Engine SELECT users.id AS users_id, users.name AS users_name, users.fullname AS users_fullname, users.nickname AS users_nickname, addresses.id AS addresses_id, addresses.email_address AS addresses_email_address, addresses.user_id AS addresses_user_id \n",
      "FROM users, addresses \n",
      "WHERE users.id = addresses.user_id AND addresses.email_address = ?\n",
      "2020-10-15 20:36:45,219 INFO sqlalchemy.engine.base.Engine ('jack@google.com',)\n",
      "<User(name=jack, fullname=Jack Bean, nickname=jacks-random-nickname)>\n",
      "<Address email_address=jack@google.com>\n"
     ]
    }
   ],
   "source": [
    "# construct a simple implicit JOIN\n",
    "for u, a in session.query(\n",
    "    User, Address\n",
    ").filter(\n",
    "    User.id == Address.user_id\n",
    ").filter(\n",
    "    Address.email_address == \"jack@google.com\"\n",
    ").all():\n",
    "    print(u)\n",
    "    print(a)"
   ]
  },
  {
   "cell_type": "code",
   "execution_count": 40,
   "metadata": {},
   "outputs": [
    {
     "name": "stdout",
     "output_type": "stream",
     "text": [
      "2020-10-15 20:36:45,241 INFO sqlalchemy.engine.base.Engine SELECT users.id AS users_id, users.name AS users_name, users.fullname AS users_fullname, users.nickname AS users_nickname \n",
      "FROM users JOIN addresses ON users.id = addresses.user_id \n",
      "WHERE addresses.email_address = ?\n",
      "2020-10-15 20:36:45,245 INFO sqlalchemy.engine.base.Engine ('jack@google.com',)\n"
     ]
    },
    {
     "data": {
      "text/plain": [
       "[<User(name=jack, fullname=Jack Bean, nickname=jacks-random-nickname)>]"
      ]
     },
     "execution_count": 40,
     "metadata": {},
     "output_type": "execute_result"
    }
   ],
   "source": [
    "# The actual JOIN syntax\n",
    "session.query(User).join(\n",
    "    Address\n",
    ").filter(\n",
    "    Address.email_address == \"jack@google.com\"\n",
    ").all()"
   ]
  },
  {
   "cell_type": "markdown",
   "metadata": {},
   "source": [
    "In the last example, `Query.join()` knew how to join between `User` and `Address` because there was only one foreign key between them.\n",
    "\n",
    "If there are no foreign keys, or several, `Query.join()` works better when one of the following forms is used:\n",
    "```\n",
    "query.join(Address, User.id==Address.user_id)    # explicit condition\n",
    "query.join(User.addresses)                       # specify relationship from left to right\n",
    "query.join(Address, User.addresses)              # same, with explicit target\n",
    "```"
   ]
  },
  {
   "cell_type": "markdown",
   "metadata": {},
   "source": [
    "#### Using Aliases\n",
    "\n",
    "When querying across multiple tables, if the same table needs to be referenced more than once, SQL typically requires that the table be aliased with another name, so that it can be distinguished against other occurrences of that table.\n",
    "\n",
    "In the SQLAlchemy ORM, aliasing a table with another name can be accomplished by means of the `aliased()` construct. There are 2 equivalent ways of making the target of a relationship JOIN refer to an `aliased()` object. As a concrete example, if the aliased object is `adalias1 = aliased(Address)`, then the 2 ways are as follows:\n",
    "```\n",
    "q = query.join(User.addresses.of_type(adalias1))\n",
    "q = query.join(adalias1, User.addresses)\n",
    "```"
   ]
  },
  {
   "cell_type": "markdown",
   "metadata": {},
   "source": [
    "#### Using Subqueries\n",
    "\n",
    "Suppose we wanted to load `User` objects along with a count of how many `Address` records each user has.\n",
    "\n",
    "The best way to generate SQL like this is:\n",
    "```\n",
    "SELECT users.*, adr_count.address_count\n",
    "FROM users\n",
    "LEFT JOIN (\n",
    "    SELECT user_id, count(*) AS address_count\n",
    "    FROM addresses GROUP BY user_id\n",
    ") AS adr_count\n",
    "ON users.id = adr_count.user_id;\n",
    "```\n",
    "\n",
    "Using the `Query`, we build a statement like that from the inside out."
   ]
  },
  {
   "cell_type": "code",
   "execution_count": 41,
   "metadata": {},
   "outputs": [
    {
     "data": {
      "text/plain": [
       "sqlalchemy.sql.selectable.Alias"
      ]
     },
     "execution_count": 41,
     "metadata": {},
     "output_type": "execute_result"
    }
   ],
   "source": [
    "# the `subquery()` method on `Query` produces a SQL expression construct\n",
    "# representing a SELECT statement embedded within an alias\n",
    "stmt = session.query(\n",
    "    Address.user_id,\n",
    "    func.count(\"*\").label(\"address_count\"),\n",
    ").group_by(\n",
    "    Address.user_id\n",
    ").subquery()\n",
    "\n",
    "type(stmt)"
   ]
  },
  {
   "cell_type": "code",
   "execution_count": 42,
   "metadata": {},
   "outputs": [
    {
     "name": "stdout",
     "output_type": "stream",
     "text": [
      "2020-10-15 20:36:45,392 INFO sqlalchemy.engine.base.Engine SELECT users.id AS users_id, users.name AS users_name, users.fullname AS users_fullname, users.nickname AS users_nickname, anon_1.address_count AS anon_1_address_count \n",
      "FROM users LEFT OUTER JOIN (SELECT addresses.user_id AS user_id, count(?) AS address_count \n",
      "FROM addresses GROUP BY addresses.user_id) AS anon_1 ON users.id = anon_1.user_id ORDER BY users.id\n",
      "2020-10-15 20:36:45,398 INFO sqlalchemy.engine.base.Engine ('*',)\n",
      "<User(name=ed, fullname=Ed Jones, nickname=eddie)> None\n",
      "<User(name=wendy, fullname=Wendy Williams, nickname=windy)> None\n",
      "<User(name=mary, fullname=Mary Contrary, nickname=mary)> None\n",
      "<User(name=fred, fullname=Fred Flintstone, nickname=freddy)> None\n",
      "<User(name=jack, fullname=Jack Bean, nickname=jacks-random-nickname)> 2\n"
     ]
    }
   ],
   "source": [
    "for u, count in session.query(\n",
    "    User, stmt.c.address_count\n",
    ").outerjoin(\n",
    "    stmt, User.id == stmt.c.user_id\n",
    ").order_by(\n",
    "    User.id\n",
    "):\n",
    "    print(u, count)"
   ]
  },
  {
   "cell_type": "markdown",
   "metadata": {},
   "source": [
    "#### Selecting Entities from Subqueries\n",
    "\n",
    "Above, we just selected a result that included a column from a subquery. \n",
    "\n",
    "What if we wanted our subquery to map to an entity? For this we associate an \"alias\" of a mapped class to a subquery:\n",
    "```\n",
    "stmt = session.query(\n",
    "    Address\n",
    ").filter(\n",
    "    Address.email_address != \"j25@yahoo.com\"\n",
    ").subquery()\n",
    "\n",
    "adalias = aliased(Address, alias=stmt)\n",
    "\n",
    "for user, address in session.query(\n",
    "    User, adalias\n",
    ").join(\n",
    "    adalias, User.addresses\n",
    "):\n",
    "    print(user)\n",
    "    print(address)\n",
    "```"
   ]
  },
  {
   "cell_type": "markdown",
   "metadata": {},
   "source": [
    "#### Using EXISTS\n",
    "\n",
    "The EXISTS keyword in SQL is a boolean operator which returns True if the given expression contains any rows.\n",
    "\n",
    "The EXISTS keyword/operator:\n",
    "- may be used in many scenarios in place of JOINs, and\n",
    "- is also useful for locating rows which do not have a corresponding row in a related table.\n",
    "\n",
    "An example of the latter query is:\n",
    "```\n",
    "SELECT users.name\n",
    "FROM users\n",
    "WHERE EXISTS (\n",
    "    SELECT *\n",
    "    FROM addresses\n",
    "    WHERE addresses.user_id = users.id\n",
    ");\n",
    "```"
   ]
  },
  {
   "cell_type": "code",
   "execution_count": 43,
   "metadata": {},
   "outputs": [
    {
     "name": "stdout",
     "output_type": "stream",
     "text": [
      "2020-10-15 20:36:45,428 INFO sqlalchemy.engine.base.Engine SELECT users.name AS users_name \n",
      "FROM users \n",
      "WHERE EXISTS (SELECT * \n",
      "FROM addresses \n",
      "WHERE addresses.user_id = users.id)\n",
      "2020-10-15 20:36:45,433 INFO sqlalchemy.engine.base.Engine ()\n",
      "('jack',)\n"
     ]
    }
   ],
   "source": [
    "# There is an explicit EXISTS construct, which looks like this:\n",
    "\n",
    "from sqlalchemy.sql import exists\n",
    "\n",
    "stmt = exists().where(\n",
    "    Address.user_id == User.id\n",
    ")\n",
    "\n",
    "for named_tuple in session.query(\n",
    "    User.name\n",
    ").filter(\n",
    "    exists().where(\n",
    "        Address.user_id == User.id\n",
    "    )\n",
    "):\n",
    "    print(named_tuple)"
   ]
  },
  {
   "cell_type": "code",
   "execution_count": 44,
   "metadata": {},
   "outputs": [
    {
     "name": "stdout",
     "output_type": "stream",
     "text": [
      "2020-10-15 20:36:45,453 INFO sqlalchemy.engine.base.Engine SELECT users.name AS users_name \n",
      "FROM users \n",
      "WHERE EXISTS (SELECT 1 \n",
      "FROM addresses \n",
      "WHERE users.id = addresses.user_id)\n",
      "2020-10-15 20:36:45,461 INFO sqlalchemy.engine.base.Engine ()\n",
      "('jack',)\n"
     ]
    }
   ],
   "source": [
    "# (Essentially) The same statement can be expressed\n",
    "# along the `User.addresses` relationship using `Comparator.any()`,\n",
    "# which is a `Query` operator that makes use of EXISTS automatically.\n",
    "\n",
    "for named_tuple in session.query(\n",
    "    User.name\n",
    ").filter(\n",
    "    User.addresses.any()\n",
    "):\n",
    "    print(named_tuple)"
   ]
  },
  {
   "cell_type": "code",
   "execution_count": 45,
   "metadata": {},
   "outputs": [
    {
     "name": "stdout",
     "output_type": "stream",
     "text": [
      "2020-10-15 20:36:45,488 INFO sqlalchemy.engine.base.Engine SELECT users.name AS users_name \n",
      "FROM users \n",
      "WHERE EXISTS (SELECT 1 \n",
      "FROM addresses \n",
      "WHERE users.id = addresses.user_id AND addresses.email_address LIKE ?)\n",
      "2020-10-15 20:36:45,492 INFO sqlalchemy.engine.base.Engine ('%google%',)\n",
      "('jack',)\n"
     ]
    }
   ],
   "source": [
    "# `Comparator.any()` can limit the rows matched, by taking a criterion:\n",
    "for named_tuple in session.query(\n",
    "    User.name\n",
    ").filter(\n",
    "    User.addresses.any(\n",
    "        Address.email_address.like(\"%google%\")\n",
    "    )\n",
    "):\n",
    "    print(named_tuple)"
   ]
  },
  {
   "cell_type": "code",
   "execution_count": 46,
   "metadata": {},
   "outputs": [
    {
     "name": "stdout",
     "output_type": "stream",
     "text": [
      "2020-10-15 20:36:45,520 INFO sqlalchemy.engine.base.Engine SELECT addresses.id AS addresses_id, addresses.email_address AS addresses_email_address, addresses.user_id AS addresses_user_id \n",
      "FROM addresses \n",
      "WHERE NOT (EXISTS (SELECT 1 \n",
      "FROM users \n",
      "WHERE users.id = addresses.user_id AND users.name = ?))\n",
      "2020-10-15 20:36:45,523 INFO sqlalchemy.engine.base.Engine ('jack',)\n"
     ]
    },
    {
     "data": {
      "text/plain": [
       "[]"
      ]
     },
     "execution_count": 46,
     "metadata": {},
     "output_type": "execute_result"
    }
   ],
   "source": [
    "# While the `Comparator.any()` operator is for one-to-many relationships,\n",
    "# its equivalent for many-to-one relationships is `Comparator.has()`\n",
    "session.query(\n",
    "    Address\n",
    ").filter(\n",
    "    ~Address.user.has(\n",
    "        User.name == 'jack'\n",
    "    )\n",
    ").all()"
   ]
  },
  {
   "cell_type": "markdown",
   "metadata": {},
   "source": [
    "### Deleting\n",
    "\n",
    "Let’s try to delete `jack` and see how that goes."
   ]
  },
  {
   "cell_type": "code",
   "execution_count": 47,
   "metadata": {},
   "outputs": [
    {
     "name": "stdout",
     "output_type": "stream",
     "text": [
      "2020-10-15 20:36:45,555 INFO sqlalchemy.engine.base.Engine UPDATE addresses SET user_id=? WHERE addresses.id = ?\n",
      "2020-10-15 20:36:45,558 INFO sqlalchemy.engine.base.Engine ((None, 1), (None, 2))\n",
      "2020-10-15 20:36:45,561 INFO sqlalchemy.engine.base.Engine DELETE FROM users WHERE users.id = ?\n",
      "2020-10-15 20:36:45,563 INFO sqlalchemy.engine.base.Engine (5,)\n",
      "2020-10-15 20:36:45,565 INFO sqlalchemy.engine.base.Engine SELECT count(*) AS count_1 \n",
      "FROM (SELECT users.id AS users_id, users.name AS users_name, users.fullname AS users_fullname, users.nickname AS users_nickname \n",
      "FROM users \n",
      "WHERE users.name = ?) AS anon_1\n",
      "2020-10-15 20:36:45,567 INFO sqlalchemy.engine.base.Engine ('jack',)\n"
     ]
    },
    {
     "data": {
      "text/plain": [
       "0"
      ]
     },
     "execution_count": 47,
     "metadata": {},
     "output_type": "execute_result"
    }
   ],
   "source": [
    "session.delete(jack)\n",
    "\n",
    "session.query(\n",
    "    User\n",
    ").filter_by(\n",
    "    name=\"jack\"\n",
    ").count()"
   ]
  },
  {
   "cell_type": "markdown",
   "metadata": {},
   "source": [
    "So far, so good. How about Jack’s `Address` objects?"
   ]
  },
  {
   "cell_type": "code",
   "execution_count": 48,
   "metadata": {},
   "outputs": [
    {
     "name": "stdout",
     "output_type": "stream",
     "text": [
      "2020-10-15 20:36:45,594 INFO sqlalchemy.engine.base.Engine SELECT count(*) AS count_1 \n",
      "FROM (SELECT addresses.id AS addresses_id, addresses.email_address AS addresses_email_address, addresses.user_id AS addresses_user_id \n",
      "FROM addresses \n",
      "WHERE addresses.email_address IN (?, ?)) AS anon_1\n",
      "2020-10-15 20:36:45,599 INFO sqlalchemy.engine.base.Engine ('jack@google.com', 'j25@yahoo.com')\n"
     ]
    },
    {
     "data": {
      "text/plain": [
       "2"
      ]
     },
     "execution_count": 48,
     "metadata": {},
     "output_type": "execute_result"
    }
   ],
   "source": [
    "session.query(\n",
    "    Address\n",
    ").filter(\n",
    "    Address.email_address.in_([\n",
    "        \"jack@google.com\",\n",
    "        \"j25@yahoo.com\",\n",
    "    ])\n",
    ").count()"
   ]
  },
  {
   "cell_type": "markdown",
   "metadata": {},
   "source": [
    "Uh oh, they’re still there ! Analyzing the first flush SQL, we can see that the `user_id` column of each address was set to NULL, but the rows weren’t deleted.\n",
    "\n",
    "SQLAlchemy doesn’t assume a \"delete cascade\". That has be told to it explicitly."
   ]
  },
  {
   "cell_type": "markdown",
   "metadata": {},
   "source": [
    "#### Configuring delete/delete-orphan Cascade\n",
    "\n",
    "We will configure **cascade** options on the `User.addresses` relationship to change the behavior.\n",
    "\n",
    "While SQLAlchemy allows you to add new attributes and relationships to mappings at any point in time, in this case the existing relationship needs to be removed, so we need to tear down the mappings completely and start again:"
   ]
  },
  {
   "cell_type": "code",
   "execution_count": 49,
   "metadata": {},
   "outputs": [
    {
     "name": "stdout",
     "output_type": "stream",
     "text": [
      "2020-10-15 20:36:45,621 INFO sqlalchemy.engine.base.Engine ROLLBACK\n"
     ]
    }
   ],
   "source": [
    "session.close()"
   ]
  },
  {
   "cell_type": "code",
   "execution_count": 50,
   "metadata": {},
   "outputs": [],
   "source": [
    "# use a new declarative_base()\n",
    "Base = declarative_base()"
   ]
  },
  {
   "cell_type": "code",
   "execution_count": 51,
   "metadata": {},
   "outputs": [],
   "source": [
    "# declare the `User` class,\n",
    "# adding in the `addresses` relationship including the cascade information\n",
    "\n",
    "class User(Base):\n",
    "    __tablename__ = \"users\"\n",
    "    \n",
    "    id = Column(Integer, primary_key=True)\n",
    "    name = Column(String)\n",
    "    fullname = Column(String)\n",
    "    nickname = Column(String)\n",
    "    \n",
    "    addresses = relationship(\n",
    "        \"Address\",\n",
    "        back_populates=\"user\",\n",
    "        cascade=\"all, delete, delete-orphan\",\n",
    "    )\n",
    "    \n",
    "    def __repr__(self):\n",
    "        return (\n",
    "            f\"<User(name={self.name}, fullname={self.fullname},\"\n",
    "            f\" nickname={self.nickname})>\"\n",
    "        )"
   ]
  },
  {
   "cell_type": "code",
   "execution_count": 52,
   "metadata": {},
   "outputs": [],
   "source": [
    "class Address(Base):\n",
    "    __tablename__ = \"addresses\"\n",
    "    \n",
    "    id = Column(Integer, primary_key=True)\n",
    "    email_address = Column(String, nullable=False)\n",
    "    \n",
    "    user_id = Column(Integer, ForeignKey(\"users.id\"))\n",
    "    user = relationship(\n",
    "        \"User\",\n",
    "        back_populates=\"addresses\",\n",
    "    )\n",
    "    \n",
    "    def __repr__(self):\n",
    "        return (\n",
    "            f\"<Address email_address={self.email_address}>\"\n",
    "        )"
   ]
  },
  {
   "cell_type": "code",
   "execution_count": 53,
   "metadata": {},
   "outputs": [
    {
     "name": "stdout",
     "output_type": "stream",
     "text": [
      "2020-10-15 20:36:45,706 INFO sqlalchemy.engine.base.Engine BEGIN (implicit)\n",
      "2020-10-15 20:36:45,716 INFO sqlalchemy.engine.base.Engine SELECT users.id AS users_id, users.name AS users_name, users.fullname AS users_fullname, users.nickname AS users_nickname \n",
      "FROM users \n",
      "WHERE users.id = ?\n",
      "2020-10-15 20:36:45,718 INFO sqlalchemy.engine.base.Engine (5,)\n"
     ]
    }
   ],
   "source": [
    "# load Jack by primary key\n",
    "jack = session.query(User).get(5)"
   ]
  },
  {
   "cell_type": "code",
   "execution_count": 54,
   "metadata": {},
   "outputs": [
    {
     "name": "stdout",
     "output_type": "stream",
     "text": [
      "2020-10-15 20:36:45,737 INFO sqlalchemy.engine.base.Engine SELECT addresses.id AS addresses_id, addresses.email_address AS addresses_email_address, addresses.user_id AS addresses_user_id \n",
      "FROM addresses \n",
      "WHERE ? = addresses.user_id\n",
      "2020-10-15 20:36:45,740 INFO sqlalchemy.engine.base.Engine (5,)\n"
     ]
    }
   ],
   "source": [
    "# remove one Address (lazy load fires off)\n",
    "del jack.addresses[1]"
   ]
  },
  {
   "cell_type": "code",
   "execution_count": 55,
   "metadata": {},
   "outputs": [
    {
     "name": "stdout",
     "output_type": "stream",
     "text": [
      "2020-10-15 20:36:45,759 INFO sqlalchemy.engine.base.Engine DELETE FROM addresses WHERE addresses.id = ?\n",
      "2020-10-15 20:36:45,764 INFO sqlalchemy.engine.base.Engine (2,)\n",
      "2020-10-15 20:36:45,770 INFO sqlalchemy.engine.base.Engine SELECT count(*) AS count_1 \n",
      "FROM (SELECT addresses.id AS addresses_id, addresses.email_address AS addresses_email_address, addresses.user_id AS addresses_user_id \n",
      "FROM addresses \n",
      "WHERE addresses.email_address IN (?, ?)) AS anon_1\n",
      "2020-10-15 20:36:45,773 INFO sqlalchemy.engine.base.Engine ('jack@google.com', 'j25@yahoo.com')\n"
     ]
    },
    {
     "data": {
      "text/plain": [
       "1"
      ]
     },
     "execution_count": 55,
     "metadata": {},
     "output_type": "execute_result"
    }
   ],
   "source": [
    "# verify that only one Address remains\n",
    "session.query(\n",
    "    Address\n",
    ").filter(\n",
    "    Address.email_address.in_([\n",
    "        \"jack@google.com\",\n",
    "        \"j25@yahoo.com\",\n",
    "])).count()"
   ]
  },
  {
   "cell_type": "code",
   "execution_count": 56,
   "metadata": {},
   "outputs": [],
   "source": [
    "# deleting `jack` will delete\n",
    "# both `jack` and the remaining `Address` associated with the user\n",
    "session.delete(jack)"
   ]
  },
  {
   "cell_type": "code",
   "execution_count": 57,
   "metadata": {},
   "outputs": [
    {
     "name": "stdout",
     "output_type": "stream",
     "text": [
      "2020-10-15 20:36:45,828 INFO sqlalchemy.engine.base.Engine DELETE FROM addresses WHERE addresses.id = ?\n",
      "2020-10-15 20:36:45,834 INFO sqlalchemy.engine.base.Engine (1,)\n",
      "2020-10-15 20:36:45,839 INFO sqlalchemy.engine.base.Engine DELETE FROM users WHERE users.id = ?\n",
      "2020-10-15 20:36:45,841 INFO sqlalchemy.engine.base.Engine (5,)\n",
      "2020-10-15 20:36:45,844 INFO sqlalchemy.engine.base.Engine SELECT count(*) AS count_1 \n",
      "FROM (SELECT users.id AS users_id, users.name AS users_name, users.fullname AS users_fullname, users.nickname AS users_nickname \n",
      "FROM users \n",
      "WHERE users.name = ?) AS anon_1\n",
      "2020-10-15 20:36:45,846 INFO sqlalchemy.engine.base.Engine ('jack',)\n"
     ]
    },
    {
     "data": {
      "text/plain": [
       "0"
      ]
     },
     "execution_count": 57,
     "metadata": {},
     "output_type": "execute_result"
    }
   ],
   "source": [
    "session.query(\n",
    "    User\n",
    ").filter_by(\n",
    "    name=\"jack\"\n",
    ").count()"
   ]
  },
  {
   "cell_type": "code",
   "execution_count": 58,
   "metadata": {},
   "outputs": [
    {
     "name": "stdout",
     "output_type": "stream",
     "text": [
      "2020-10-15 20:36:45,879 INFO sqlalchemy.engine.base.Engine SELECT count(*) AS count_1 \n",
      "FROM (SELECT addresses.id AS addresses_id, addresses.email_address AS addresses_email_address, addresses.user_id AS addresses_user_id \n",
      "FROM addresses \n",
      "WHERE addresses.email_address IN (?, ?)) AS anon_1\n",
      "2020-10-15 20:36:45,882 INFO sqlalchemy.engine.base.Engine ('jack@google.com', 'j25@yahoo.com')\n"
     ]
    },
    {
     "data": {
      "text/plain": [
       "0"
      ]
     },
     "execution_count": 58,
     "metadata": {},
     "output_type": "execute_result"
    }
   ],
   "source": [
    "session.query(\n",
    "    Address\n",
    ").filter(\n",
    "    Address.email_address.in_([\n",
    "        \"jack@google.com\",\n",
    "        \"j25@yahoo.com\",\n",
    "])).count()"
   ]
  },
  {
   "cell_type": "markdown",
   "metadata": {},
   "source": [
    "### Building a Many To Many Relationship\n",
    "\n",
    "Let us suppose our application needs to allows `User`s to write `BlogPost`s, which have `Keyword`s associated with them.\n",
    "\n",
    "For a plain many-to-many relationship, we need to create an un-mapped `Table` construct to serve as \"an association table\".\n",
    "\n",
    "In what follows, the association table is defined so as to only contain columns which reference the two sides of the relationship. (If it has **any other columns** [such as its own primary key, or foreign keys to other tables], SQLAlchemy **requires a different usage pattern** called the “association object”, described at https://docs.sqlalchemy.org/en/13/orm/basic_relationships.html#association-pattern.)"
   ]
  },
  {
   "cell_type": "code",
   "execution_count": 59,
   "metadata": {},
   "outputs": [
    {
     "data": {
      "text/plain": [
       "sqlalchemy.sql.schema.Table"
      ]
     },
     "execution_count": 59,
     "metadata": {},
     "output_type": "execute_result"
    }
   ],
   "source": [
    "from sqlalchemy import Table\n",
    "\n",
    "# The metadata is used as a point of association (of `post_keywords`)\n",
    "# with other tables referenced via foreign key.\n",
    "post_keywords = Table(\n",
    "    \"post_keywords\",\n",
    "    Base.metadata,\n",
    "    Column(\"post_id\", ForeignKey(\"posts.id\"), primary_key=True),\n",
    "    Column(\"keyword_id\", ForeignKey(\"keywords.id\"), primary_key=True),\n",
    ")\n",
    "\n",
    "type(post_keywords)"
   ]
  },
  {
   "cell_type": "code",
   "execution_count": 60,
   "metadata": {},
   "outputs": [],
   "source": [
    "from sqlalchemy import Text\n",
    "\n",
    "\n",
    "class BlogPost(Base):\n",
    "    __tablename__ = \"posts\"\n",
    "    \n",
    "    id = Column(Integer, primary_key=True)\n",
    "    user_id = Column(Integer, ForeignKey(\"users.id\"))\n",
    "    headline = Column(String(255), nullable=False)\n",
    "    body = Column(Text)\n",
    "    \n",
    "    # many-to-many BlogPost<->Keyword\n",
    "    keywords = relationship(\n",
    "        \"Keyword\",\n",
    "        secondary=post_keywords,  # references a `Table` object representing the association table\n",
    "        back_populates=\"posts\",\n",
    "    )\n",
    "    \n",
    "    def __init__(self, headline, body, author):\n",
    "        self.headline = headline\n",
    "        self.body = body\n",
    "        self.author = author\n",
    "    \n",
    "    def __repr__(self):\n",
    "        return (\n",
    "            f\"BlogPost({self.headline}, {self.body}, {self.author})\"\n",
    "        )\n",
    "\n",
    "\n",
    "class Keyword(Base):\n",
    "    __tablename__ = \"keywords\"\n",
    "    \n",
    "    id = Column(Integer, primary_key=True)\n",
    "    keyword = Column(String(50), nullable=False, unique=True)\n",
    "    \n",
    "    posts = relationship(\n",
    "        \"BlogPost\",\n",
    "        secondary=post_keywords,    # references a `Table` object representing the association table\n",
    "        back_populates=\"keywords\",\n",
    "    )\n",
    "    \n",
    "    def __init__(self, keyword):\n",
    "        self.keyword = keyword"
   ]
  },
  {
   "cell_type": "code",
   "execution_count": 61,
   "metadata": {},
   "outputs": [],
   "source": [
    "# We would also like our `BlogPost` class to have an `author` field.\n",
    "# We will add this as another bidirectional relationship,\n",
    "# except one issue we’ll have is that\n",
    "# a single user might have lots of blog posts.\n",
    "\n",
    "BlogPost.author = relationship(\n",
    "    User,\n",
    "    back_populates=\"posts\",\n",
    ")\n",
    "\n",
    "User.posts = relationship(\n",
    "    BlogPost,\n",
    "    back_populates=\"author\",\n",
    "    lazy=\"dynamic\",  # enables filtering of the results before loading them\n",
    ")"
   ]
  },
  {
   "cell_type": "code",
   "execution_count": 62,
   "metadata": {},
   "outputs": [
    {
     "name": "stdout",
     "output_type": "stream",
     "text": [
      "2020-10-15 20:36:46,027 INFO sqlalchemy.engine.base.Engine PRAGMA main.table_info(\"users\")\n",
      "2020-10-15 20:36:46,030 INFO sqlalchemy.engine.base.Engine ()\n",
      "2020-10-15 20:36:46,033 INFO sqlalchemy.engine.base.Engine PRAGMA main.table_info(\"addresses\")\n",
      "2020-10-15 20:36:46,035 INFO sqlalchemy.engine.base.Engine ()\n",
      "2020-10-15 20:36:46,040 INFO sqlalchemy.engine.base.Engine PRAGMA main.table_info(\"post_keywords\")\n",
      "2020-10-15 20:36:46,042 INFO sqlalchemy.engine.base.Engine ()\n",
      "2020-10-15 20:36:46,044 INFO sqlalchemy.engine.base.Engine PRAGMA temp.table_info(\"post_keywords\")\n",
      "2020-10-15 20:36:46,046 INFO sqlalchemy.engine.base.Engine ()\n",
      "2020-10-15 20:36:46,049 INFO sqlalchemy.engine.base.Engine PRAGMA main.table_info(\"posts\")\n",
      "2020-10-15 20:36:46,053 INFO sqlalchemy.engine.base.Engine ()\n",
      "2020-10-15 20:36:46,057 INFO sqlalchemy.engine.base.Engine PRAGMA temp.table_info(\"posts\")\n",
      "2020-10-15 20:36:46,059 INFO sqlalchemy.engine.base.Engine ()\n",
      "2020-10-15 20:36:46,067 INFO sqlalchemy.engine.base.Engine PRAGMA main.table_info(\"keywords\")\n",
      "2020-10-15 20:36:46,070 INFO sqlalchemy.engine.base.Engine ()\n",
      "2020-10-15 20:36:46,074 INFO sqlalchemy.engine.base.Engine PRAGMA temp.table_info(\"keywords\")\n",
      "2020-10-15 20:36:46,076 INFO sqlalchemy.engine.base.Engine ()\n",
      "2020-10-15 20:36:46,079 INFO sqlalchemy.engine.base.Engine \n",
      "CREATE TABLE posts (\n",
      "\tid INTEGER NOT NULL, \n",
      "\tuser_id INTEGER, \n",
      "\theadline VARCHAR(255) NOT NULL, \n",
      "\tbody TEXT, \n",
      "\tPRIMARY KEY (id), \n",
      "\tFOREIGN KEY(user_id) REFERENCES users (id)\n",
      ")\n",
      "\n",
      "\n",
      "2020-10-15 20:36:46,081 INFO sqlalchemy.engine.base.Engine ()\n",
      "2020-10-15 20:36:46,086 INFO sqlalchemy.engine.base.Engine COMMIT\n",
      "2020-10-15 20:36:46,088 INFO sqlalchemy.engine.base.Engine \n",
      "CREATE TABLE keywords (\n",
      "\tid INTEGER NOT NULL, \n",
      "\tkeyword VARCHAR(50) NOT NULL, \n",
      "\tPRIMARY KEY (id), \n",
      "\tUNIQUE (keyword)\n",
      ")\n",
      "\n",
      "\n",
      "2020-10-15 20:36:46,091 INFO sqlalchemy.engine.base.Engine ()\n",
      "2020-10-15 20:36:46,094 INFO sqlalchemy.engine.base.Engine COMMIT\n",
      "2020-10-15 20:36:46,100 INFO sqlalchemy.engine.base.Engine \n",
      "CREATE TABLE post_keywords (\n",
      "\tpost_id INTEGER NOT NULL, \n",
      "\tkeyword_id INTEGER NOT NULL, \n",
      "\tPRIMARY KEY (post_id, keyword_id), \n",
      "\tFOREIGN KEY(post_id) REFERENCES posts (id), \n",
      "\tFOREIGN KEY(keyword_id) REFERENCES keywords (id)\n",
      ")\n",
      "\n",
      "\n",
      "2020-10-15 20:36:46,108 INFO sqlalchemy.engine.base.Engine ()\n",
      "2020-10-15 20:36:46,113 INFO sqlalchemy.engine.base.Engine COMMIT\n"
     ]
    }
   ],
   "source": [
    "# Create new tables:\n",
    "\n",
    "Base.metadata.create_all(engine)"
   ]
  },
  {
   "cell_type": "code",
   "execution_count": 63,
   "metadata": {},
   "outputs": [
    {
     "name": "stdout",
     "output_type": "stream",
     "text": [
      "2020-10-15 20:36:46,155 INFO sqlalchemy.engine.base.Engine SELECT users.id AS users_id, users.name AS users_name, users.fullname AS users_fullname, users.nickname AS users_nickname \n",
      "FROM users \n",
      "WHERE users.name = ?\n",
      "2020-10-15 20:36:46,159 INFO sqlalchemy.engine.base.Engine ('wendy',)\n"
     ]
    }
   ],
   "source": [
    "# give Wendy some blog posts\n",
    "wendy = session.query(\n",
    "    User\n",
    ").filter_by(\n",
    "    name=\"wendy\"\n",
    ").one()"
   ]
  },
  {
   "cell_type": "code",
   "execution_count": 64,
   "metadata": {},
   "outputs": [
    {
     "name": "stdout",
     "output_type": "stream",
     "text": [
      "<class 'sqlalchemy.orm.dynamic.AppenderQuery'>\n"
     ]
    }
   ],
   "source": [
    "print(type(wendy.posts))"
   ]
  },
  {
   "cell_type": "code",
   "execution_count": 65,
   "metadata": {},
   "outputs": [],
   "source": [
    "post = BlogPost(\n",
    "    \"Wendy's Blog Post\",\n",
    "    \"This is a test\",\n",
    "    wendy,\n",
    ")\n",
    "\n",
    "session.add(post)"
   ]
  },
  {
   "cell_type": "code",
   "execution_count": 66,
   "metadata": {},
   "outputs": [],
   "source": [
    "post.keywords.append(\n",
    "    Keyword(\"wendy\")\n",
    ")\n",
    "\n",
    "post.keywords.append(\n",
    "    Keyword(\"firstpost\")\n",
    ")"
   ]
  },
  {
   "cell_type": "code",
   "execution_count": 67,
   "metadata": {},
   "outputs": [
    {
     "name": "stdout",
     "output_type": "stream",
     "text": [
      "2020-10-15 20:36:46,230 INFO sqlalchemy.engine.base.Engine INSERT INTO keywords (keyword) VALUES (?)\n",
      "2020-10-15 20:36:46,234 INFO sqlalchemy.engine.base.Engine ('wendy',)\n",
      "2020-10-15 20:36:46,237 INFO sqlalchemy.engine.base.Engine INSERT INTO keywords (keyword) VALUES (?)\n",
      "2020-10-15 20:36:46,239 INFO sqlalchemy.engine.base.Engine ('firstpost',)\n",
      "2020-10-15 20:36:46,242 INFO sqlalchemy.engine.base.Engine INSERT INTO posts (user_id, headline, body) VALUES (?, ?, ?)\n",
      "2020-10-15 20:36:46,244 INFO sqlalchemy.engine.base.Engine (2, \"Wendy's Blog Post\", 'This is a test')\n",
      "2020-10-15 20:36:46,248 INFO sqlalchemy.engine.base.Engine INSERT INTO post_keywords (post_id, keyword_id) VALUES (?, ?)\n",
      "2020-10-15 20:36:46,250 INFO sqlalchemy.engine.base.Engine ((1, 1), (1, 2))\n",
      "2020-10-15 20:36:46,255 INFO sqlalchemy.engine.base.Engine SELECT posts.id AS posts_id, posts.user_id AS posts_user_id, posts.headline AS posts_headline, posts.body AS posts_body \n",
      "FROM posts \n",
      "WHERE EXISTS (SELECT 1 \n",
      "FROM post_keywords, keywords \n",
      "WHERE posts.id = post_keywords.post_id AND keywords.id = post_keywords.keyword_id AND keywords.keyword = ?)\n",
      "2020-10-15 20:36:46,258 INFO sqlalchemy.engine.base.Engine ('firstpost',)\n"
     ]
    },
    {
     "data": {
      "text/plain": [
       "[BlogPost(Wendy's Blog Post, This is a test, <User(name=wendy, fullname=Wendy Williams, nickname=windy)>)]"
      ]
     },
     "execution_count": 67,
     "metadata": {},
     "output_type": "execute_result"
    }
   ],
   "source": [
    "session.query(\n",
    "    BlogPost\n",
    ").filter(\n",
    "    BlogPost.keywords.any(\n",
    "        keyword=\"firstpost\"\n",
    "    )\n",
    ").all()"
   ]
  },
  {
   "cell_type": "code",
   "execution_count": 68,
   "metadata": {},
   "outputs": [
    {
     "name": "stdout",
     "output_type": "stream",
     "text": [
      "2020-10-15 20:36:46,350 INFO sqlalchemy.engine.base.Engine SELECT posts.id AS posts_id, posts.user_id AS posts_user_id, posts.headline AS posts_headline, posts.body AS posts_body \n",
      "FROM posts \n",
      "WHERE ? = posts.user_id AND (EXISTS (SELECT 1 \n",
      "FROM post_keywords, keywords \n",
      "WHERE posts.id = post_keywords.post_id AND keywords.id = post_keywords.keyword_id AND keywords.keyword = ?))\n",
      "2020-10-15 20:36:46,352 INFO sqlalchemy.engine.base.Engine (2, 'firstpost')\n"
     ]
    },
    {
     "data": {
      "text/plain": [
       "[BlogPost(Wendy's Blog Post, This is a test, <User(name=wendy, fullname=Wendy Williams, nickname=windy)>)]"
      ]
     },
     "execution_count": 68,
     "metadata": {},
     "output_type": "execute_result"
    }
   ],
   "source": [
    "session.query(\n",
    "    BlogPost\n",
    ").filter(\n",
    "    BlogPost.author == wendy\n",
    ").filter(\n",
    "    BlogPost.keywords.any(\n",
    "        keyword=\"firstpost\"\n",
    "    )\n",
    ").all()"
   ]
  },
  {
   "cell_type": "code",
   "execution_count": 69,
   "metadata": {},
   "outputs": [
    {
     "data": {
      "text/plain": [
       "sqlalchemy.orm.dynamic.AppenderQuery"
      ]
     },
     "execution_count": 69,
     "metadata": {},
     "output_type": "execute_result"
    }
   ],
   "source": [
    "type(wendy.posts)"
   ]
  },
  {
   "cell_type": "code",
   "execution_count": 70,
   "metadata": {},
   "outputs": [
    {
     "name": "stdout",
     "output_type": "stream",
     "text": [
      "2020-10-15 20:36:46,391 INFO sqlalchemy.engine.base.Engine SELECT posts.id AS posts_id, posts.user_id AS posts_user_id, posts.headline AS posts_headline, posts.body AS posts_body \n",
      "FROM posts \n",
      "WHERE ? = posts.user_id AND (EXISTS (SELECT 1 \n",
      "FROM post_keywords, keywords \n",
      "WHERE posts.id = post_keywords.post_id AND keywords.id = post_keywords.keyword_id AND keywords.keyword = ?))\n",
      "2020-10-15 20:36:46,393 INFO sqlalchemy.engine.base.Engine (2, 'firstpost')\n"
     ]
    },
    {
     "data": {
      "text/plain": [
       "[BlogPost(Wendy's Blog Post, This is a test, <User(name=wendy, fullname=Wendy Williams, nickname=windy)>)]"
      ]
     },
     "execution_count": 70,
     "metadata": {},
     "output_type": "execute_result"
    }
   ],
   "source": [
    "wendy.posts.filter(\n",
    "    BlogPost.keywords.any(\n",
    "        keyword=\"firstpost\"\n",
    "    )\n",
    ").all()"
   ]
  },
  {
   "cell_type": "code",
   "execution_count": null,
   "metadata": {},
   "outputs": [],
   "source": []
  }
 ],
 "metadata": {
  "kernelspec": {
   "display_name": "Python 3",
   "language": "python",
   "name": "python3"
  },
  "language_info": {
   "codemirror_mode": {
    "name": "ipython",
    "version": 3
   },
   "file_extension": ".py",
   "mimetype": "text/x-python",
   "name": "python",
   "nbconvert_exporter": "python",
   "pygments_lexer": "ipython3",
   "version": "3.8.3"
  }
 },
 "nbformat": 4,
 "nbformat_minor": 4
}
