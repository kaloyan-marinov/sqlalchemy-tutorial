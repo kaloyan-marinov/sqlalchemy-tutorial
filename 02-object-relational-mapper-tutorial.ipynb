{
 "cells": [
  {
   "cell_type": "markdown",
   "metadata": {},
   "source": [
    "# Object Relational Tutorial\n",
    "\n",
    "source: https://docs.sqlalchemy.org/en/13/orm/tutorial.html\n",
    "\n",
    "The SQLAlchemy Object Relational Mapper presents a method of associating:\n",
    "1. user-defined Python classes with database tables, and\n",
    "2. instances of those classes (objects) with rows in their corresponding tables.\n",
    "\n",
    "It includes:\n",
    "1. a system that transparently synchronizes all changes in state between objects and their related rows, called a [unit of work](https://docs.sqlalchemy.org/en/13/glossary.html#term-unit-of-work), as well as\n",
    "2. a system for expressing database queries in terms of the user defined classes and their defined relationships between each other."
   ]
  },
  {
   "cell_type": "code",
   "execution_count": 1,
   "metadata": {},
   "outputs": [
    {
     "data": {
      "text/plain": [
       "'1.3.19'"
      ]
     },
     "execution_count": 1,
     "metadata": {},
     "output_type": "execute_result"
    }
   ],
   "source": [
    "import sqlalchemy\n",
    "sqlalchemy.__version__"
   ]
  },
  {
   "cell_type": "code",
   "execution_count": 2,
   "metadata": {},
   "outputs": [
    {
     "data": {
      "text/plain": [
       "sqlalchemy.engine.base.Engine"
      ]
     },
     "execution_count": 2,
     "metadata": {},
     "output_type": "execute_result"
    }
   ],
   "source": [
    "from sqlalchemy import create_engine\n",
    "\n",
    "engine = create_engine('sqlite:///:memory:', echo=True)\n",
    "\n",
    "type(engine)"
   ]
  },
  {
   "cell_type": "markdown",
   "metadata": {},
   "source": [
    "When using the ORM, we typically don’t use the `Engine` directly once created; instead, it’s used behind the scenes by the ORM as we’ll see shortly."
   ]
  },
  {
   "cell_type": "markdown",
   "metadata": {},
   "source": [
    "### Declare a Mapping\n",
    "\n",
    "When using the ORM, the configurational process:\n",
    "- starts by describing the database tables we’ll be dealing with, and\n",
    "- then by defining our own classes which will be mapped to those tables.\n",
    "\n",
    "In modern SQLAlchemy, these two tasks are usually performed together, using a system known as `Declarative`, which allows us to create classes that include directives to describe the actual database table they will be mapped to.\n",
    "\n",
    "Classes mapped using the `Declarative` system are defined in terms of a base class which maintains a catalog of classes and tables relative to that base - this is known as the **declarative base class**."
   ]
  },
  {
   "cell_type": "code",
   "execution_count": 3,
   "metadata": {},
   "outputs": [],
   "source": [
    "from sqlalchemy.ext.declarative import declarative_base\n",
    "\n",
    "Base = declarative_base()"
   ]
  },
  {
   "cell_type": "code",
   "execution_count": 4,
   "metadata": {},
   "outputs": [],
   "source": [
    "from sqlalchemy import Column, Integer, String\n",
    "\n",
    "class User(Base):\n",
    "    __tablename__ = \"users\"\n",
    "    \n",
    "    id = Column(Integer, primary_key=True)\n",
    "    name = Column(String)\n",
    "    fullname = Column(String)\n",
    "    nickname = Column(String)\n",
    "    \n",
    "    def __repr__(self):\n",
    "        return (\n",
    "            f\"<User(name={self.name}, fullname={self.fullname},\"\n",
    "            f\" nickname={self.nickname})>\"\n",
    "        )"
   ]
  },
  {
   "cell_type": "markdown",
   "metadata": {},
   "source": [
    "When our class is constructed, Declarative replaces all the `Column` objects with special Python accessors known as \"descriptors\"; this is a process known as \"instrumentation\".\n",
    "\n",
    "The “instrumented” mapped class will provide us with the means to refer to our table in a SQL context as well as to persist and load the values of columns from the database."
   ]
  },
  {
   "cell_type": "markdown",
   "metadata": {},
   "source": [
    "### Create a Schema and an Instance of the Mapped Class"
   ]
  },
  {
   "cell_type": "code",
   "execution_count": 5,
   "metadata": {},
   "outputs": [
    {
     "data": {
      "text/plain": [
       "Table('users', MetaData(bind=None), Column('id', Integer(), table=<users>, primary_key=True, nullable=False), Column('name', String(), table=<users>), Column('fullname', String(), table=<users>), Column('nickname', String(), table=<users>), schema=None)"
      ]
     },
     "execution_count": 5,
     "metadata": {},
     "output_type": "execute_result"
    }
   ],
   "source": [
    "User.__table__"
   ]
  },
  {
   "cell_type": "code",
   "execution_count": 6,
   "metadata": {},
   "outputs": [
    {
     "data": {
      "text/plain": [
       "sqlalchemy.sql.schema.Table"
      ]
     },
     "execution_count": 6,
     "metadata": {},
     "output_type": "execute_result"
    }
   ],
   "source": [
    "type(User.__table__)"
   ]
  },
  {
   "cell_type": "code",
   "execution_count": 7,
   "metadata": {},
   "outputs": [
    {
     "name": "stdout",
     "output_type": "stream",
     "text": [
      "2020-10-14 15:35:05,238 INFO sqlalchemy.engine.base.Engine SELECT CAST('test plain returns' AS VARCHAR(60)) AS anon_1\n",
      "2020-10-14 15:35:05,241 INFO sqlalchemy.engine.base.Engine ()\n",
      "2020-10-14 15:35:05,246 INFO sqlalchemy.engine.base.Engine SELECT CAST('test unicode returns' AS VARCHAR(60)) AS anon_1\n",
      "2020-10-14 15:35:05,257 INFO sqlalchemy.engine.base.Engine ()\n",
      "2020-10-14 15:35:05,265 INFO sqlalchemy.engine.base.Engine PRAGMA main.table_info(\"users\")\n",
      "2020-10-14 15:35:05,273 INFO sqlalchemy.engine.base.Engine ()\n",
      "2020-10-14 15:35:05,289 INFO sqlalchemy.engine.base.Engine PRAGMA temp.table_info(\"users\")\n",
      "2020-10-14 15:35:05,297 INFO sqlalchemy.engine.base.Engine ()\n",
      "2020-10-14 15:35:05,314 INFO sqlalchemy.engine.base.Engine \n",
      "CREATE TABLE users (\n",
      "\tid INTEGER NOT NULL, \n",
      "\tname VARCHAR, \n",
      "\tfullname VARCHAR, \n",
      "\tnickname VARCHAR, \n",
      "\tPRIMARY KEY (id)\n",
      ")\n",
      "\n",
      "\n",
      "2020-10-14 15:35:05,321 INFO sqlalchemy.engine.base.Engine ()\n",
      "2020-10-14 15:35:05,330 INFO sqlalchemy.engine.base.Engine COMMIT\n"
     ]
    }
   ],
   "source": [
    "# issue CREATE TABLE statements to the database\n",
    "# for all tables that don’t yet exist\n",
    "\n",
    "Base.metadata.create_all(engine)"
   ]
  },
  {
   "cell_type": "code",
   "execution_count": 8,
   "metadata": {},
   "outputs": [
    {
     "data": {
      "text/plain": [
       "<User(name=ed, fullname=Ed Jones, nickname=edsnickname)>"
      ]
     },
     "execution_count": 8,
     "metadata": {},
     "output_type": "execute_result"
    }
   ],
   "source": [
    "ed_user = User(name='ed', fullname='Ed Jones', nickname='edsnickname')\n",
    "\n",
    "ed_user"
   ]
  },
  {
   "cell_type": "code",
   "execution_count": 9,
   "metadata": {},
   "outputs": [
    {
     "data": {
      "text/plain": [
       "'None'"
      ]
     },
     "execution_count": 9,
     "metadata": {},
     "output_type": "execute_result"
    }
   ],
   "source": [
    "str(ed_user.id)"
   ]
  },
  {
   "cell_type": "markdown",
   "metadata": {},
   "source": [
    "### Creating a Session\n",
    "\n",
    "We’re now ready to start talking to the database. The ORM’s “handle” to the database is the `Session`.\n",
    "\n",
    "In the most general sense, the `Session` establishes all conversations with the database and represents a “holding zone” for all the objects which you’ve loaded or associated with it during its lifespan."
   ]
  },
  {
   "cell_type": "code",
   "execution_count": 10,
   "metadata": {},
   "outputs": [],
   "source": [
    "from sqlalchemy.orm import sessionmaker\n",
    "Session = sessionmaker(bind=engine)"
   ]
  },
  {
   "cell_type": "code",
   "execution_count": 11,
   "metadata": {},
   "outputs": [],
   "source": [
    "session = Session()"
   ]
  },
  {
   "cell_type": "code",
   "execution_count": 12,
   "metadata": {},
   "outputs": [],
   "source": [
    "session.add(ed_user)"
   ]
  },
  {
   "cell_type": "markdown",
   "metadata": {},
   "source": [
    "At this point, we say that the instance is **pending**; no SQL has yet been issued and the object is not yet represented by a row in the database.\n",
    "\n",
    "The `Session` will issue the SQL to persist `ed_user` as soon as is needed; this process is known as a **flush**. For example, if we query the database:\n",
    "- first all pending information will be flushed, and\n",
    "- immediately thereafter the query will be issued."
   ]
  },
  {
   "cell_type": "code",
   "execution_count": 13,
   "metadata": {},
   "outputs": [
    {
     "name": "stdout",
     "output_type": "stream",
     "text": [
      "<class 'sqlalchemy.orm.query.Query'>\n",
      "\n",
      "2020-10-14 15:35:05,512 INFO sqlalchemy.engine.base.Engine BEGIN (implicit)\n",
      "2020-10-14 15:35:05,517 INFO sqlalchemy.engine.base.Engine INSERT INTO users (name, fullname, nickname) VALUES (?, ?, ?)\n",
      "2020-10-14 15:35:05,522 INFO sqlalchemy.engine.base.Engine ('ed', 'Ed Jones', 'edsnickname')\n",
      "2020-10-14 15:35:05,526 INFO sqlalchemy.engine.base.Engine SELECT users.id AS users_id, users.name AS users_name, users.fullname AS users_fullname, users.nickname AS users_nickname \n",
      "FROM users \n",
      "WHERE users.name = ?\n",
      " LIMIT ? OFFSET ?\n",
      "2020-10-14 15:35:05,528 INFO sqlalchemy.engine.base.Engine ('ed', 1, 0)\n"
     ]
    }
   ],
   "source": [
    "query = session.query(User).filter_by(name='ed')\n",
    "\n",
    "print(type(query))\n",
    "print()\n",
    "\n",
    "our_user = query.first()"
   ]
  },
  {
   "cell_type": "code",
   "execution_count": 14,
   "metadata": {},
   "outputs": [
    {
     "data": {
      "text/plain": [
       "True"
      ]
     },
     "execution_count": 14,
     "metadata": {},
     "output_type": "execute_result"
    }
   ],
   "source": [
    "# Note: the Session has identified that\n",
    "# the row returned is **the same row**\n",
    "# as one already represented within its internal map of objects,\n",
    "# so we actually got back the identical instance\n",
    "# as that which we just added:\n",
    "\n",
    "# Note: executing the `Query` returned the very same instance\n",
    "# as the one that was added to the `Session`:\n",
    "our_user is ed_user"
   ]
  },
  {
   "cell_type": "markdown",
   "metadata": {},
   "source": [
    "[The `Session`] provides the entrypoint to acquire a `Query` object, which sends queries to the database (using the `Session` object’s current database connection).\n",
    "\n",
    "Doing so populates result rows into objects that are then stored in the `Session`, inside a structure called the \"Identity Map\" - a data structure that maintains unique copies of each object, where “unique” means “only one object with a particular primary key”.\n",
    "\n",
    "An Identity Map is a mapping that’s associated with an ORM `Session` object, and maintains a mapping/correspondence between Python objects and their database identities. (Thus, an Identity Map keeps a record of all objects that have been read from the database in a single business transaction.)"
   ]
  },
  {
   "cell_type": "code",
   "execution_count": 15,
   "metadata": {},
   "outputs": [
    {
     "data": {
      "text/plain": [
       "(1, 1)"
      ]
     },
     "execution_count": 15,
     "metadata": {},
     "output_type": "execute_result"
    }
   ],
   "source": [
    "# In addition,\n",
    "# if we look at Ed's `id` attribute, which earlier was `None`,\n",
    "# it now has a value:\n",
    "ed_user.id, our_user.id"
   ]
  },
  {
   "cell_type": "code",
   "execution_count": 16,
   "metadata": {},
   "outputs": [],
   "source": [
    "# We can add more User objects at once:\n",
    "session.add_all([\n",
    "    User(name='wendy', fullname='Wendy Williams', nickname='windy'),\n",
    "    User(name='mary', fullname='Mary Contrary', nickname='mary'),\n",
    "    User(name='fred', fullname='Fred Flintstone', nickname='freddy'),\n",
    "])\n",
    "\n",
    "# Also, let's change Ed's nickname:\n",
    "ed_user.nickname = 'eddie'"
   ]
  },
  {
   "cell_type": "code",
   "execution_count": 17,
   "metadata": {},
   "outputs": [
    {
     "data": {
      "text/plain": [
       "IdentitySet([<User(name=ed, fullname=Ed Jones, nickname=eddie)>])"
      ]
     },
     "execution_count": 17,
     "metadata": {},
     "output_type": "execute_result"
    }
   ],
   "source": [
    "# The `Session` is paying attention...\n",
    "# exhibit A:\n",
    "session.dirty"
   ]
  },
  {
   "cell_type": "code",
   "execution_count": 18,
   "metadata": {},
   "outputs": [
    {
     "data": {
      "text/plain": [
       "IdentitySet([<User(name=wendy, fullname=Wendy Williams, nickname=windy)>, <User(name=mary, fullname=Mary Contrary, nickname=mary)>, <User(name=fred, fullname=Fred Flintstone, nickname=freddy)>])"
      ]
     },
     "execution_count": 18,
     "metadata": {},
     "output_type": "execute_result"
    }
   ],
   "source": [
    "# exhibit B:\n",
    "session.new"
   ]
  },
  {
   "cell_type": "code",
   "execution_count": 19,
   "metadata": {},
   "outputs": [
    {
     "name": "stdout",
     "output_type": "stream",
     "text": [
      "2020-10-14 15:35:05,739 INFO sqlalchemy.engine.base.Engine UPDATE users SET nickname=? WHERE users.id = ?\n",
      "2020-10-14 15:35:05,748 INFO sqlalchemy.engine.base.Engine ('eddie', 1)\n",
      "2020-10-14 15:35:05,753 INFO sqlalchemy.engine.base.Engine INSERT INTO users (name, fullname, nickname) VALUES (?, ?, ?)\n",
      "2020-10-14 15:35:05,755 INFO sqlalchemy.engine.base.Engine ('wendy', 'Wendy Williams', 'windy')\n",
      "2020-10-14 15:35:05,757 INFO sqlalchemy.engine.base.Engine INSERT INTO users (name, fullname, nickname) VALUES (?, ?, ?)\n",
      "2020-10-14 15:35:05,762 INFO sqlalchemy.engine.base.Engine ('mary', 'Mary Contrary', 'mary')\n",
      "2020-10-14 15:35:05,764 INFO sqlalchemy.engine.base.Engine INSERT INTO users (name, fullname, nickname) VALUES (?, ?, ?)\n",
      "2020-10-14 15:35:05,773 INFO sqlalchemy.engine.base.Engine ('fred', 'Fred Flintstone', 'freddy')\n",
      "2020-10-14 15:35:05,779 INFO sqlalchemy.engine.base.Engine COMMIT\n"
     ]
    }
   ],
   "source": [
    "# issue all remaining changes to the database and commit the transaction,\n",
    "# which has been in progress throughout\n",
    "session.commit()"
   ]
  },
  {
   "cell_type": "markdown",
   "metadata": {},
   "source": [
    "### Rolling back\n",
    "\n",
    "Since the `Session` works within a transaction, we can roll back changes made too."
   ]
  },
  {
   "cell_type": "code",
   "execution_count": 20,
   "metadata": {},
   "outputs": [],
   "source": [
    "# Make 2 changes that we'll revert\n",
    "\n",
    "ed_user.name = 'Edwardo'\n",
    "\n",
    "fake_user = User(name='fakeuser', fullname='Invalid', nickname='12345')\n",
    "session.add(fake_user)"
   ]
  },
  {
   "cell_type": "code",
   "execution_count": 21,
   "metadata": {},
   "outputs": [
    {
     "name": "stdout",
     "output_type": "stream",
     "text": [
      "2020-10-14 15:35:05,830 INFO sqlalchemy.engine.base.Engine BEGIN (implicit)\n",
      "2020-10-14 15:35:05,833 INFO sqlalchemy.engine.base.Engine SELECT users.id AS users_id, users.fullname AS users_fullname, users.nickname AS users_nickname \n",
      "FROM users \n",
      "WHERE users.id = ?\n",
      "2020-10-14 15:35:05,837 INFO sqlalchemy.engine.base.Engine (1,)\n",
      "2020-10-14 15:35:05,844 INFO sqlalchemy.engine.base.Engine UPDATE users SET name=? WHERE users.id = ?\n",
      "2020-10-14 15:35:05,846 INFO sqlalchemy.engine.base.Engine ('Edwardo', 1)\n",
      "2020-10-14 15:35:05,849 INFO sqlalchemy.engine.base.Engine INSERT INTO users (name, fullname, nickname) VALUES (?, ?, ?)\n",
      "2020-10-14 15:35:05,852 INFO sqlalchemy.engine.base.Engine ('fakeuser', 'Invalid', '12345')\n",
      "2020-10-14 15:35:05,856 INFO sqlalchemy.engine.base.Engine SELECT users.id AS users_id, users.name AS users_name, users.fullname AS users_fullname, users.nickname AS users_nickname \n",
      "FROM users \n",
      "WHERE users.name IN (?, ?)\n",
      "2020-10-14 15:35:05,861 INFO sqlalchemy.engine.base.Engine ('Edwardo', 'fakeuser')\n"
     ]
    },
    {
     "data": {
      "text/plain": [
       "[<User(name=Edwardo, fullname=Ed Jones, nickname=eddie)>,\n",
       " <User(name=fakeuser, fullname=Invalid, nickname=12345)>]"
      ]
     },
     "execution_count": 21,
     "metadata": {},
     "output_type": "execute_result"
    }
   ],
   "source": [
    "# Querying the session shows that\n",
    "# both changes are flushed into the current transaction\n",
    "session.query(User).filter(\n",
    "    User.name.in_(['Edwardo', 'fakeuser'])\n",
    ").all()"
   ]
  },
  {
   "cell_type": "code",
   "execution_count": 22,
   "metadata": {},
   "outputs": [
    {
     "name": "stdout",
     "output_type": "stream",
     "text": [
      "2020-10-14 15:35:05,902 INFO sqlalchemy.engine.base.Engine ROLLBACK\n",
      "2020-10-14 15:35:05,905 INFO sqlalchemy.engine.base.Engine BEGIN (implicit)\n",
      "2020-10-14 15:35:05,907 INFO sqlalchemy.engine.base.Engine SELECT users.id AS users_id, users.name AS users_name, users.fullname AS users_fullname, users.nickname AS users_nickname \n",
      "FROM users \n",
      "WHERE users.id = ?\n",
      "2020-10-14 15:35:05,910 INFO sqlalchemy.engine.base.Engine (1,)\n",
      "True\n",
      "False\n",
      "\n",
      "2020-10-14 15:35:05,923 INFO sqlalchemy.engine.base.Engine SELECT users.id AS users_id, users.name AS users_name, users.fullname AS users_fullname, users.nickname AS users_nickname \n",
      "FROM users \n",
      "WHERE users.name IN (?, ?)\n",
      "2020-10-14 15:35:05,925 INFO sqlalchemy.engine.base.Engine ('ed', 'fakeuser')\n",
      "[<User(name=ed, fullname=Ed Jones, nickname=eddie)>]\n"
     ]
    }
   ],
   "source": [
    "# Roll back the changes, and verify that has worked as expected.\n",
    "\n",
    "session.rollback()\n",
    "\n",
    "print(ed_user.name == 'ed')\n",
    "print(fake_user in session)\n",
    "\n",
    "print()\n",
    "print(\n",
    "    session.query(User).filter(\n",
    "        User.name.in_(['ed', 'fakeuser'])\n",
    "    ).all()\n",
    ")"
   ]
  },
  {
   "cell_type": "markdown",
   "metadata": {},
   "source": [
    "### Querying\n",
    "\n",
    "A `Query` object is created using the `query()` method on `Session`.\n",
    "\n",
    "This function takes a variable number of arguments, which can be any combination of (a) classes and (b) class-instrumented descriptors."
   ]
  },
  {
   "cell_type": "code",
   "execution_count": 23,
   "metadata": {},
   "outputs": [
    {
     "name": "stdout",
     "output_type": "stream",
     "text": [
      "2020-10-14 15:35:06,010 INFO sqlalchemy.engine.base.Engine SELECT users.id AS users_id, users.name AS users_name, users.fullname AS users_fullname, users.nickname AS users_nickname \n",
      "FROM users ORDER BY users.id\n",
      "2020-10-14 15:35:06,013 INFO sqlalchemy.engine.base.Engine ()\n",
      "<class '__main__.User'> ed Ed Jones\n",
      "<class '__main__.User'> wendy Wendy Williams\n",
      "<class '__main__.User'> mary Mary Contrary\n",
      "<class '__main__.User'> fred Fred Flintstone\n"
     ]
    }
   ],
   "source": [
    "for instance in session.query(User).order_by(User.id):\n",
    "    print(type(instance), instance.name, instance.fullname)"
   ]
  },
  {
   "cell_type": "code",
   "execution_count": 24,
   "metadata": {},
   "outputs": [
    {
     "name": "stdout",
     "output_type": "stream",
     "text": [
      "2020-10-14 15:35:06,046 INFO sqlalchemy.engine.base.Engine SELECT users.name AS users_name, users.id AS users_id, users.fullname AS users_fullname, users.nickname AS users_nickname \n",
      "FROM users\n",
      "2020-10-14 15:35:06,051 INFO sqlalchemy.engine.base.Engine ()\n",
      "ed   <---   <User(name=ed, fullname=Ed Jones, nickname=eddie)>\n",
      "wendy   <---   <User(name=wendy, fullname=Wendy Williams, nickname=windy)>\n",
      "mary   <---   <User(name=mary, fullname=Mary Contrary, nickname=mary)>\n",
      "fred   <---   <User(name=fred, fullname=Fred Flintstone, nickname=freddy)>\n"
     ]
    }
   ],
   "source": [
    "for named_tuple in session.query(User.name, User).all():\n",
    "    print(f\"{named_tuple.name}   <---   {named_tuple.User}\")"
   ]
  },
  {
   "cell_type": "markdown",
   "metadata": {},
   "source": [
    "#### Controlling names of columns and entities\n",
    "\n",
    "- You can control the names of individual column expressions using the `ColumnElement.label()` construct\n",
    "- The name given to a full entity such as `User` ... can be controlled using `aliased()`\n",
    "\n",
    "[no examples]"
   ]
  },
  {
   "cell_type": "markdown",
   "metadata": {},
   "source": [
    "#### Basic operations with `Query`"
   ]
  },
  {
   "cell_type": "code",
   "execution_count": 25,
   "metadata": {},
   "outputs": [
    {
     "name": "stdout",
     "output_type": "stream",
     "text": [
      "2020-10-14 15:35:06,091 INFO sqlalchemy.engine.base.Engine SELECT users.id AS users_id, users.name AS users_name, users.fullname AS users_fullname, users.nickname AS users_nickname \n",
      "FROM users ORDER BY users.id\n",
      " LIMIT ? OFFSET ?\n",
      "2020-10-14 15:35:06,097 INFO sqlalchemy.engine.base.Engine (2, 1)\n",
      "2 <User(name=wendy, fullname=Wendy Williams, nickname=windy)>\n",
      "3 <User(name=mary, fullname=Mary Contrary, nickname=mary)>\n"
     ]
    }
   ],
   "source": [
    "# LIMIT and OFFSET\n",
    "for u in session.query(User).order_by(User.id)[1:3]:\n",
    "    print(u.id, u)"
   ]
  },
  {
   "cell_type": "code",
   "execution_count": 26,
   "metadata": {},
   "outputs": [
    {
     "name": "stdout",
     "output_type": "stream",
     "text": [
      "2020-10-14 15:35:06,120 INFO sqlalchemy.engine.base.Engine SELECT users.id AS users_id, users.name AS users_name, users.fullname AS users_fullname, users.nickname AS users_nickname \n",
      "FROM users \n",
      "WHERE users.fullname = ?\n",
      "2020-10-14 15:35:06,123 INFO sqlalchemy.engine.base.Engine ('Ed Jones',)\n",
      "1 <User(name=ed, fullname=Ed Jones, nickname=eddie)>\n"
     ]
    }
   ],
   "source": [
    "# filtering results\n",
    "# (using keyword args)\n",
    "for u in session.query(User).filter_by(fullname=\"Ed Jones\"):\n",
    "    print(u.id, u)"
   ]
  },
  {
   "cell_type": "code",
   "execution_count": 27,
   "metadata": {},
   "outputs": [
    {
     "name": "stdout",
     "output_type": "stream",
     "text": [
      "2020-10-14 15:35:06,160 INFO sqlalchemy.engine.base.Engine SELECT users.id AS users_id, users.name AS users_name, users.fullname AS users_fullname, users.nickname AS users_nickname \n",
      "FROM users \n",
      "WHERE users.fullname = ?\n",
      "2020-10-14 15:35:06,163 INFO sqlalchemy.engine.base.Engine ('Wendy Williams',)\n",
      "2 <User(name=wendy, fullname=Wendy Williams, nickname=windy)>\n"
     ]
    }
   ],
   "source": [
    "# filtering results\n",
    "# (using more flexible SQL expression language constructs)\n",
    "for u in session.query(User).filter(User.fullname == \"Wendy Williams\"):\n",
    "    print(u.id, u)"
   ]
  },
  {
   "cell_type": "markdown",
   "metadata": {},
   "source": [
    "The `Query` object is fully **generative**, meaning that most method calls return a new `Query` object upon which further criteria may be added."
   ]
  },
  {
   "cell_type": "code",
   "execution_count": 28,
   "metadata": {},
   "outputs": [
    {
     "name": "stdout",
     "output_type": "stream",
     "text": [
      "2020-10-14 15:35:06,225 INFO sqlalchemy.engine.base.Engine SELECT users.id AS users_id, users.name AS users_name, users.fullname AS users_fullname, users.nickname AS users_nickname \n",
      "FROM users \n",
      "WHERE users.name = ? AND users.fullname = ?\n",
      "2020-10-14 15:35:06,230 INFO sqlalchemy.engine.base.Engine ('mary', 'Mary Contrary')\n",
      "3 <User(name=mary, fullname=Mary Contrary, nickname=mary)>\n"
     ]
    }
   ],
   "source": [
    "for u in session.query(User).filter(\n",
    "    User.name == \"mary\"\n",
    ").filter(\n",
    "    User.fullname == \"Mary Contrary\"\n",
    "):\n",
    "    print(u.id, u)"
   ]
  },
  {
   "cell_type": "markdown",
   "metadata": {},
   "source": [
    "A number of methods on Query immediately issue SQL and return a value containing loaded database results. Here’s a brief tour:\n",
    "- `Query.all()` returns a list\n",
    "- `Query.first()` applies a LIMIT of 1 (and an OFFSET of 0) and returns the first result as a scalar\n",
    "- `Query.one()` fully fetches all rows, and if not exactly one object identity or composite row is present in the result, raises an error.\n",
    "- `Query.one_or_none()` is like `Query.one()`, except that if no results are found, it doesn’t raise an error; it just returns `None`. Like `Query.one()`, however, it does raise an error if multiple results are found.\n",
    "- `Query.scalar()` invokes the `Query.one()` method, and upon success returns the first column of the row"
   ]
  },
  {
   "cell_type": "markdown",
   "metadata": {},
   "source": [
    "#### Using Textual SQL\n",
    "\n",
    "Literal strings can be used flexibly with `Query`, by specifying their use with the `text()` [SQL Expression Language] construct, which is accepted by most applicable methods.\n",
    "\n",
    "Nice examples can be found at https://docs.sqlalchemy.org/en/13/orm/tutorial.html#using-textual-sql"
   ]
  },
  {
   "cell_type": "markdown",
   "metadata": {},
   "source": [
    "#### Counting"
   ]
  },
  {
   "cell_type": "code",
   "execution_count": 29,
   "metadata": {},
   "outputs": [
    {
     "name": "stdout",
     "output_type": "stream",
     "text": [
      "2020-10-14 15:35:06,267 INFO sqlalchemy.engine.base.Engine SELECT count(*) AS count_1 \n",
      "FROM (SELECT users.id AS users_id, users.name AS users_name, users.fullname AS users_fullname, users.nickname AS users_nickname \n",
      "FROM users \n",
      "WHERE lower(users.name) LIKE lower(?)) AS anon_1\n",
      "2020-10-14 15:35:06,275 INFO sqlalchemy.engine.base.Engine ('%ed',)\n"
     ]
    },
    {
     "data": {
      "text/plain": [
       "2"
      ]
     },
     "execution_count": 29,
     "metadata": {},
     "output_type": "execute_result"
    }
   ],
   "source": [
    "session.query(User).filter(\n",
    "    User.name.ilike(\"%ed\")\n",
    ").count()"
   ]
  },
  {
   "cell_type": "code",
   "execution_count": 30,
   "metadata": {},
   "outputs": [
    {
     "name": "stdout",
     "output_type": "stream",
     "text": [
      "2020-10-14 15:35:06,336 INFO sqlalchemy.engine.base.Engine SELECT users.name AS users_name, count(users.name) AS count_1 \n",
      "FROM users GROUP BY users.name\n",
      "2020-10-14 15:35:06,339 INFO sqlalchemy.engine.base.Engine ()\n"
     ]
    },
    {
     "data": {
      "text/plain": [
       "[('ed', 1), ('fred', 1), ('mary', 1), ('wendy', 1)]"
      ]
     },
     "execution_count": 30,
     "metadata": {},
     "output_type": "execute_result"
    }
   ],
   "source": [
    "# For situations where the “thing to be counted” needs to be indicated specifically:\n",
    "\n",
    "from sqlalchemy import func\n",
    "\n",
    "session.query(\n",
    "    User.name,\n",
    "    func.count(User.name),\n",
    ").group_by(\n",
    "    User.name\n",
    ").all()"
   ]
  },
  {
   "cell_type": "code",
   "execution_count": 31,
   "metadata": {},
   "outputs": [
    {
     "name": "stdout",
     "output_type": "stream",
     "text": [
      "2020-10-14 15:35:06,400 INFO sqlalchemy.engine.base.Engine SELECT count(?) AS count_1 \n",
      "FROM users\n",
      "2020-10-14 15:35:06,402 INFO sqlalchemy.engine.base.Engine ('*',)\n"
     ]
    },
    {
     "data": {
      "text/plain": [
       "4"
      ]
     },
     "execution_count": 31,
     "metadata": {},
     "output_type": "execute_result"
    }
   ],
   "source": [
    "# To achieve our simple\n",
    "#     `SELECT count(*) FROM table`:\n",
    "\n",
    "session.query(\n",
    "    func.count(\"*\")\n",
    ").select_from(\n",
    "    User\n",
    ").scalar()\n",
    "\n",
    "# # or:\n",
    "# session.query(\n",
    "#     func.count(User.id)\n",
    "# ).scalar()"
   ]
  },
  {
   "cell_type": "code",
   "execution_count": null,
   "metadata": {},
   "outputs": [],
   "source": []
  }
 ],
 "metadata": {
  "kernelspec": {
   "display_name": "Python 3",
   "language": "python",
   "name": "python3"
  },
  "language_info": {
   "codemirror_mode": {
    "name": "ipython",
    "version": 3
   },
   "file_extension": ".py",
   "mimetype": "text/x-python",
   "name": "python",
   "nbconvert_exporter": "python",
   "pygments_lexer": "ipython3",
   "version": "3.8.3"
  }
 },
 "nbformat": 4,
 "nbformat_minor": 4
}
