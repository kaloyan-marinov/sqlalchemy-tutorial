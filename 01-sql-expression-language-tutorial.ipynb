{
 "cells": [
  {
   "cell_type": "code",
   "execution_count": 1,
   "metadata": {},
   "outputs": [
    {
     "data": {
      "text/plain": [
       "'1.3.19'"
      ]
     },
     "execution_count": 1,
     "metadata": {},
     "output_type": "execute_result"
    }
   ],
   "source": [
    "import sqlalchemy\n",
    "sqlalchemy.__version__"
   ]
  },
  {
   "cell_type": "markdown",
   "metadata": {},
   "source": [
    "# Define and Create Tables¶"
   ]
  },
  {
   "cell_type": "code",
   "execution_count": 2,
   "metadata": {},
   "outputs": [],
   "source": [
    "from sqlalchemy import create_engine\n",
    "\n",
    "'''\n",
    "[The object created below]:\n",
    "- represents the core interface to the database\n",
    "- has not actually tried to connect to the database yet;\n",
    "  that happens only the first time\n",
    "  it is asked to perform a task against the database.\n",
    "\n",
    "- is a repository for database connections\n",
    "  capable of issuing SQL to the database.\n",
    "'''\n",
    "engine = create_engine('sqlite:///:memory:', echo=True)"
   ]
  },
  {
   "cell_type": "code",
   "execution_count": 3,
   "metadata": {},
   "outputs": [
    {
     "name": "stdout",
     "output_type": "stream",
     "text": [
      "2020-09-30 17:37:43,769 INFO sqlalchemy.engine.base.Engine SELECT CAST('test plain returns' AS VARCHAR(60)) AS anon_1\n",
      "2020-09-30 17:37:43,771 INFO sqlalchemy.engine.base.Engine ()\n",
      "2020-09-30 17:37:43,773 INFO sqlalchemy.engine.base.Engine SELECT CAST('test unicode returns' AS VARCHAR(60)) AS anon_1\n",
      "2020-09-30 17:37:43,776 INFO sqlalchemy.engine.base.Engine ()\n",
      "2020-09-30 17:37:43,783 INFO sqlalchemy.engine.base.Engine PRAGMA main.table_info(\"users\")\n",
      "2020-09-30 17:37:43,788 INFO sqlalchemy.engine.base.Engine ()\n",
      "2020-09-30 17:37:43,791 INFO sqlalchemy.engine.base.Engine PRAGMA temp.table_info(\"users\")\n",
      "2020-09-30 17:37:43,806 INFO sqlalchemy.engine.base.Engine ()\n",
      "2020-09-30 17:37:43,817 INFO sqlalchemy.engine.base.Engine PRAGMA main.table_info(\"addresses\")\n",
      "2020-09-30 17:37:43,818 INFO sqlalchemy.engine.base.Engine ()\n",
      "2020-09-30 17:37:43,857 INFO sqlalchemy.engine.base.Engine PRAGMA temp.table_info(\"addresses\")\n",
      "2020-09-30 17:37:43,859 INFO sqlalchemy.engine.base.Engine ()\n",
      "2020-09-30 17:37:43,879 INFO sqlalchemy.engine.base.Engine \n",
      "CREATE TABLE users (\n",
      "\tid INTEGER NOT NULL, \n",
      "\tname VARCHAR, \n",
      "\tfullname VARCHAR, \n",
      "\tPRIMARY KEY (id)\n",
      ")\n",
      "\n",
      "\n",
      "2020-09-30 17:37:43,881 INFO sqlalchemy.engine.base.Engine ()\n",
      "2020-09-30 17:37:43,882 INFO sqlalchemy.engine.base.Engine COMMIT\n",
      "2020-09-30 17:37:43,909 INFO sqlalchemy.engine.base.Engine \n",
      "CREATE TABLE addresses (\n",
      "\tid INTEGER NOT NULL, \n",
      "\tuser_id INTEGER, \n",
      "\temail_address VARCHAR NOT NULL, \n",
      "\tPRIMARY KEY (id), \n",
      "\tFOREIGN KEY(user_id) REFERENCES users (id)\n",
      ")\n",
      "\n",
      "\n",
      "2020-09-30 17:37:43,928 INFO sqlalchemy.engine.base.Engine ()\n",
      "2020-09-30 17:37:43,934 INFO sqlalchemy.engine.base.Engine COMMIT\n"
     ]
    }
   ],
   "source": [
    "from sqlalchemy import Table, Column, Integer, String, MetaData, ForeignKey\n",
    "\n",
    "metadata = MetaData()\n",
    "\n",
    "users = Table(\n",
    "    'users', metadata,\n",
    "    Column('id', Integer, primary_key=True),\n",
    "    Column('name', String),\n",
    "    Column('fullname', String),\n",
    ")\n",
    "addresses = Table(\n",
    "    'addresses', metadata,\n",
    "    Column('id', Integer, primary_key=True),\n",
    "    Column('user_id', None, ForeignKey('users.id')),\n",
    "    Column('email_address', String, nullable=False)\n",
    ")\n",
    "\n",
    "# actually ... create our ... tables ... inside the ... database\n",
    "metadata.create_all(engine)"
   ]
  },
  {
   "cell_type": "markdown",
   "metadata": {},
   "source": [
    "# [The first SQL expression we’ll create is] the `Insert` construct"
   ]
  },
  {
   "cell_type": "code",
   "execution_count": 4,
   "metadata": {},
   "outputs": [
    {
     "data": {
      "text/plain": [
       "'INSERT INTO users (id, name, fullname) VALUES (:id, :name, :fullname)'"
      ]
     },
     "execution_count": 4,
     "metadata": {},
     "output_type": "execute_result"
    }
   ],
   "source": [
    "# the `Insert` construct ... represents an INSERT statement.\n",
    "ins = users.insert()\n",
    "str(ins)"
   ]
  },
  {
   "cell_type": "code",
   "execution_count": 5,
   "metadata": {},
   "outputs": [
    {
     "data": {
      "text/plain": [
       "'INSERT INTO users (name, fullname) VALUES (:name, :fullname)'"
      ]
     },
     "execution_count": 5,
     "metadata": {},
     "output_type": "execute_result"
    }
   ],
   "source": [
    "ins = users.insert().values(name='jack', fullname='Jack Jones')\n",
    "str(ins)"
   ]
  },
  {
   "cell_type": "code",
   "execution_count": 6,
   "metadata": {},
   "outputs": [
    {
     "data": {
      "text/plain": [
       "{'name': 'jack', 'fullname': 'Jack Jones'}"
      ]
     },
     "execution_count": 6,
     "metadata": {},
     "output_type": "execute_result"
    }
   ],
   "source": [
    "ins.compile().params"
   ]
  },
  {
   "cell_type": "markdown",
   "metadata": {},
   "source": [
    "# Executing [an `Insert` construct]"
   ]
  },
  {
   "cell_type": "code",
   "execution_count": 7,
   "metadata": {},
   "outputs": [
    {
     "data": {
      "text/plain": [
       "<sqlalchemy.engine.base.Connection at 0x7fe62c13a520>"
      ]
     },
     "execution_count": 7,
     "metadata": {},
     "output_type": "execute_result"
    }
   ],
   "source": [
    "# The interesting part of an `Insert` construct is executing it.\n",
    "\n",
    "# acquire a [database] connection\n",
    "conn = engine.connect()\n",
    "conn"
   ]
  },
  {
   "cell_type": "code",
   "execution_count": 8,
   "metadata": {},
   "outputs": [
    {
     "name": "stdout",
     "output_type": "stream",
     "text": [
      "2020-09-30 17:37:44,112 INFO sqlalchemy.engine.base.Engine INSERT INTO users (name, fullname) VALUES (?, ?)\n",
      "2020-09-30 17:37:44,120 INFO sqlalchemy.engine.base.Engine ('jack', 'Jack Jones')\n",
      "2020-09-30 17:37:44,125 INFO sqlalchemy.engine.base.Engine COMMIT\n",
      "\n",
      "<class 'sqlalchemy.engine.result.ResultProxy'> ...\n"
     ]
    }
   ],
   "source": [
    "result = conn.execute(ins)\n",
    "\n",
    "print()\n",
    "print(type(result), '...')"
   ]
  },
  {
   "cell_type": "markdown",
   "metadata": {},
   "source": [
    "... is analogous to \"the DBAPI cursor object\""
   ]
  },
  {
   "cell_type": "code",
   "execution_count": 9,
   "metadata": {},
   "outputs": [
    {
     "data": {
      "text/plain": [
       "'INSERT INTO users (name, fullname) VALUES (?, ?)'"
      ]
     },
     "execution_count": 9,
     "metadata": {},
     "output_type": "execute_result"
    }
   ],
   "source": [
    "ins.bind = engine\n",
    "str(ins)"
   ]
  },
  {
   "cell_type": "code",
   "execution_count": 10,
   "metadata": {},
   "outputs": [
    {
     "data": {
      "text/plain": [
       "[1]"
      ]
     },
     "execution_count": 10,
     "metadata": {},
     "output_type": "execute_result"
    }
   ],
   "source": [
    "result.inserted_primary_key"
   ]
  },
  {
   "cell_type": "markdown",
   "metadata": {},
   "source": [
    "**NB**:\n",
    "- The value of 1 was automatically generated by SQLite,\n",
    "but only because we did not specify the `id` column in our `Insert`;\n",
    "- otherwise, our explicit value would have been used."
   ]
  },
  {
   "cell_type": "markdown",
   "metadata": {},
   "source": [
    "# Executing Multiple Statements"
   ]
  },
  {
   "cell_type": "code",
   "execution_count": 11,
   "metadata": {},
   "outputs": [
    {
     "name": "stdout",
     "output_type": "stream",
     "text": [
      "2020-09-30 17:37:44,217 INFO sqlalchemy.engine.base.Engine INSERT INTO users (id, name, fullname) VALUES (?, ?, ?)\n",
      "2020-09-30 17:37:44,263 INFO sqlalchemy.engine.base.Engine (2, 'wendy', 'Wendy Williams')\n",
      "2020-09-30 17:37:44,273 INFO sqlalchemy.engine.base.Engine COMMIT\n"
     ]
    },
    {
     "data": {
      "text/plain": [
       "<sqlalchemy.engine.result.ResultProxy at 0x7fe62c0d54c0>"
      ]
     },
     "execution_count": 11,
     "metadata": {},
     "output_type": "execute_result"
    }
   ],
   "source": [
    "# Our insert example above was intentionally a little drawn out\n",
    "# to show some various behaviors of expression language constructs...\n",
    "# Let's create a generic `Insert` ... again\n",
    "# and use it in the “normal” way:\n",
    "ins = users.insert()\n",
    "conn.execute(\n",
    "    ins,\n",
    "    id=2, name='wendy', fullname='Wendy Williams'\n",
    ")"
   ]
  },
  {
   "cell_type": "code",
   "execution_count": 12,
   "metadata": {},
   "outputs": [
    {
     "name": "stdout",
     "output_type": "stream",
     "text": [
      "2020-09-30 17:37:44,335 INFO sqlalchemy.engine.base.Engine INSERT INTO addresses (user_id, email_address) VALUES (?, ?)\n",
      "2020-09-30 17:37:44,341 INFO sqlalchemy.engine.base.Engine ((1, 'jack@yahoo.com'), (1, 'jack@msn.com'), (2, 'www@www.org'), (2, 'wendy@aol.com'))\n",
      "2020-09-30 17:37:44,352 INFO sqlalchemy.engine.base.Engine COMMIT\n"
     ]
    },
    {
     "data": {
      "text/plain": [
       "<sqlalchemy.engine.result.ResultProxy at 0x7fe62bc8ee20>"
      ]
     },
     "execution_count": 12,
     "metadata": {},
     "output_type": "execute_result"
    }
   ],
   "source": [
    "# To issue many inserts, ...\n",
    "# - we can send in a list of dictionaries;\n",
    "# - each dictionary *must* have the same set of keys.\n",
    "conn.execute(\n",
    "    addresses.insert(),\n",
    "    [\n",
    "        {'user_id': 1, 'email_address' : 'jack@yahoo.com'},\n",
    "        {'user_id': 1, 'email_address' : 'jack@msn.com'},\n",
    "        {'user_id': 2, 'email_address' : 'www@www.org'},\n",
    "        {'user_id': 2, 'email_address' : 'wendy@aol.com'},\n",
    "    ]\n",
    ")"
   ]
  },
  {
   "cell_type": "markdown",
   "metadata": {},
   "source": [
    "# Selecting"
   ]
  },
  {
   "cell_type": "code",
   "execution_count": 13,
   "metadata": {},
   "outputs": [],
   "source": [
    "# The primary construct used to generate SELECT statements\n",
    "# is the `select()` function:\n",
    "from sqlalchemy.sql import select\n",
    "\n",
    "s = select([users])"
   ]
  },
  {
   "cell_type": "code",
   "execution_count": 14,
   "metadata": {
    "scrolled": true
   },
   "outputs": [
    {
     "name": "stdout",
     "output_type": "stream",
     "text": [
      "2020-09-30 17:37:44,399 INFO sqlalchemy.engine.base.Engine SELECT users.id, users.name, users.fullname \n",
      "FROM users\n",
      "2020-09-30 17:37:44,407 INFO sqlalchemy.engine.base.Engine ()\n",
      "\n",
      "<class 'sqlalchemy.engine.result.ResultProxy'>\n",
      "\n",
      "<class 'sqlalchemy.engine.result.RowProxy'>: (1, 'jack', 'Jack Jones')\n",
      "<class 'sqlalchemy.engine.result.RowProxy'>: (2, 'wendy', 'Wendy Williams')\n"
     ]
    }
   ],
   "source": [
    "result = conn.execute(s)\n",
    "\n",
    "print()\n",
    "print(type(result))\n",
    "\n",
    "print()\n",
    "for row in result:\n",
    "    print(f'{type(row)}: {row}')"
   ]
  },
  {
   "cell_type": "markdown",
   "metadata": {},
   "source": [
    "- The `ResultProxy` acts much like a \"DBAPI cursor\", including methods such as `fetchone()` and `fetchall()`\n",
    "- The `RowProxy` behaves like a hybrid between a mapping and tuple, with several methods for retrieving data from each column."
   ]
  },
  {
   "cell_type": "code",
   "execution_count": 15,
   "metadata": {},
   "outputs": [
    {
     "name": "stdout",
     "output_type": "stream",
     "text": [
      "2020-09-30 17:37:44,434 INFO sqlalchemy.engine.base.Engine SELECT users.id, users.name, users.fullname \n",
      "FROM users\n",
      "2020-09-30 17:37:44,449 INFO sqlalchemy.engine.base.Engine ()\n",
      "\n",
      "name: jack; fullname: Jack Jones\n",
      "\n",
      "name: wendy; fullname: Wendy Williams\n"
     ]
    }
   ],
   "source": [
    "result = conn.execute(s)\n",
    "\n",
    "row = result.fetchone()\n",
    "print()\n",
    "print(f'name: {row[\"name\"]}; fullname: {row[\"fullname\"]}')\n",
    "\n",
    "row = result.fetchone()\n",
    "print()\n",
    "print(f'name: {row[1]}; fullname: {row[2]}')"
   ]
  },
  {
   "cell_type": "code",
   "execution_count": 16,
   "metadata": {},
   "outputs": [
    {
     "name": "stdout",
     "output_type": "stream",
     "text": [
      "2020-09-30 17:37:44,473 INFO sqlalchemy.engine.base.Engine SELECT users.id, users.name, users.fullname \n",
      "FROM users\n",
      "2020-09-30 17:37:44,477 INFO sqlalchemy.engine.base.Engine ()\n",
      "\n",
      "name: jack; fullname: Jack Jones\n",
      "\n",
      "name: wendy; fullname: Wendy Williams\n"
     ]
    }
   ],
   "source": [
    "result = conn.execute(s)\n",
    "\n",
    "for row in result:\n",
    "    print()\n",
    "    print(f'name: {row[users.c.name]}; fullname: {row[users.c.fullname]}')"
   ]
  },
  {
   "cell_type": "markdown",
   "metadata": {},
   "source": [
    "The `ResultProxy` object features “auto-close” behavior that closes the underlying \"DBAPI cursor\" object when all pending result rows have been fetched.\n",
    "\n",
    "If a `ResultProxy` is to be discarded before such an autoclose has occurred, it can be explicitly closed...:\n",
    "```\n",
    ">>> result.close()\n",
    "```"
   ]
  },
  {
   "cell_type": "markdown",
   "metadata": {},
   "source": [
    "# Selecting Specific Columns"
   ]
  },
  {
   "cell_type": "code",
   "execution_count": 17,
   "metadata": {},
   "outputs": [
    {
     "name": "stdout",
     "output_type": "stream",
     "text": [
      "2020-09-30 17:37:44,494 INFO sqlalchemy.engine.base.Engine SELECT users.name, users.fullname \n",
      "FROM users\n",
      "2020-09-30 17:37:44,500 INFO sqlalchemy.engine.base.Engine ()\n",
      "\n",
      "('jack', 'Jack Jones')\n",
      "\n",
      "('wendy', 'Wendy Williams')\n"
     ]
    }
   ],
   "source": [
    "s = select([users.c.name, users.c.fullname])\n",
    "\n",
    "result = conn.execute(s)\n",
    "\n",
    "for row in result:\n",
    "    print()\n",
    "    print(row)"
   ]
  },
  {
   "cell_type": "code",
   "execution_count": 18,
   "metadata": {},
   "outputs": [
    {
     "name": "stdout",
     "output_type": "stream",
     "text": [
      "2020-09-30 17:37:44,523 INFO sqlalchemy.engine.base.Engine SELECT users.id, users.name, users.fullname, addresses.id, addresses.user_id, addresses.email_address \n",
      "FROM users, addresses\n",
      "2020-09-30 17:37:44,526 INFO sqlalchemy.engine.base.Engine ()\n",
      "\n",
      "(1, 'jack', 'Jack Jones', 1, 1, 'jack@yahoo.com')\n",
      "\n",
      "(1, 'jack', 'Jack Jones', 2, 1, 'jack@msn.com')\n",
      "\n",
      "(1, 'jack', 'Jack Jones', 3, 2, 'www@www.org')\n",
      "\n",
      "(1, 'jack', 'Jack Jones', 4, 2, 'wendy@aol.com')\n",
      "\n",
      "(2, 'wendy', 'Wendy Williams', 1, 1, 'jack@yahoo.com')\n",
      "\n",
      "(2, 'wendy', 'Wendy Williams', 2, 1, 'jack@msn.com')\n",
      "\n",
      "(2, 'wendy', 'Wendy Williams', 3, 2, 'www@www.org')\n",
      "\n",
      "(2, 'wendy', 'Wendy Williams', 4, 2, 'wendy@aol.com')\n"
     ]
    }
   ],
   "source": [
    "# putting two tables into our `select()` statement ...\n",
    "# is a Cartesian product;\n",
    "# each row from the `users` table is produced\n",
    "# against each row from the `addresses` table.\n",
    "\n",
    "for row in conn.execute(\n",
    "    select([users, addresses])\n",
    "):\n",
    "    print()\n",
    "    print(row)"
   ]
  },
  {
   "cell_type": "code",
   "execution_count": 19,
   "metadata": {},
   "outputs": [
    {
     "name": "stdout",
     "output_type": "stream",
     "text": [
      "2020-09-30 17:37:44,550 INFO sqlalchemy.engine.base.Engine SELECT users.id, users.name, users.fullname, addresses.id, addresses.user_id, addresses.email_address \n",
      "FROM users, addresses \n",
      "WHERE users.id = addresses.user_id\n",
      "2020-09-30 17:37:44,557 INFO sqlalchemy.engine.base.Engine ()\n",
      "\n",
      "(1, 'jack', 'Jack Jones', 1, 1, 'jack@yahoo.com')\n",
      "\n",
      "(1, 'jack', 'Jack Jones', 2, 1, 'jack@msn.com')\n",
      "\n",
      "(2, 'wendy', 'Wendy Williams', 3, 2, 'www@www.org')\n",
      "\n",
      "(2, 'wendy', 'Wendy Williams', 4, 2, 'wendy@aol.com')\n"
     ]
    }
   ],
   "source": [
    "# to put some sanity into this statement, we need a WHERE clause\n",
    "\n",
    "s = select(\n",
    "    [users, addresses]\n",
    ").where(\n",
    "    users.c.id == addresses.c.user_id\n",
    ")\n",
    "\n",
    "for row in conn.execute(s):\n",
    "    print()\n",
    "    print(row)"
   ]
  },
  {
   "cell_type": "markdown",
   "metadata": {},
   "source": [
    "But let’s look at `users.c.id == addresses.c.id`? It’s using just a Python equality operator between two different `Column` objects."
   ]
  },
  {
   "cell_type": "code",
   "execution_count": 20,
   "metadata": {},
   "outputs": [
    {
     "data": {
      "text/plain": [
       "<sqlalchemy.sql.elements.BinaryExpression object at 0x7fe62c192b50>"
      ]
     },
     "execution_count": 20,
     "metadata": {},
     "output_type": "execute_result"
    }
   ],
   "source": [
    "users.c.id == addresses.c.user_id"
   ]
  },
  {
   "cell_type": "code",
   "execution_count": 21,
   "metadata": {},
   "outputs": [
    {
     "data": {
      "text/plain": [
       "'users.id = addresses.user_id'"
      ]
     },
     "execution_count": 21,
     "metadata": {},
     "output_type": "execute_result"
    }
   ],
   "source": [
    "str(users.c.id == addresses.c.user_id)"
   ]
  },
  {
   "cell_type": "markdown",
   "metadata": {},
   "source": [
    "By now, one can see that everything we are working with is ultimately the same type of object. SQLAlchemy terms the base class of all of these expressions as `ColumnElement`."
   ]
  },
  {
   "cell_type": "code",
   "execution_count": null,
   "metadata": {},
   "outputs": [],
   "source": []
  }
 ],
 "metadata": {
  "kernelspec": {
   "display_name": "Python 3",
   "language": "python",
   "name": "python3"
  },
  "language_info": {
   "codemirror_mode": {
    "name": "ipython",
    "version": 3
   },
   "file_extension": ".py",
   "mimetype": "text/x-python",
   "name": "python",
   "nbconvert_exporter": "python",
   "pygments_lexer": "ipython3",
   "version": "3.8.3"
  }
 },
 "nbformat": 4,
 "nbformat_minor": 4
}
